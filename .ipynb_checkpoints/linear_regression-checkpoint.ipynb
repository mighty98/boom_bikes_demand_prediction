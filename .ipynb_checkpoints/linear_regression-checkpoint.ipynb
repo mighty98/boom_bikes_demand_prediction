{
 "cells": [
  {
   "cell_type": "markdown",
   "id": "a1484f6f",
   "metadata": {},
   "source": [
    "# Boom Bikes: Demand Prediction"
   ]
  },
  {
   "cell_type": "markdown",
   "id": "a3ee088f",
   "metadata": {},
   "source": [
    "### Linear regression model for the prediction of demand for shared bikes."
   ]
  },
  {
   "cell_type": "markdown",
   "id": "0504e91d",
   "metadata": {},
   "source": [
    "## Data Understanding"
   ]
  },
  {
   "cell_type": "code",
   "execution_count": 248,
   "id": "8fad735a",
   "metadata": {},
   "outputs": [],
   "source": [
    "# Import all dependencies\n",
    "import pandas as pd\n",
    "import seaborn as sns\n",
    "from matplotlib import pyplot as plt"
   ]
  },
  {
   "cell_type": "code",
   "execution_count": 249,
   "id": "a3e414c6",
   "metadata": {},
   "outputs": [],
   "source": [
    "# Suppress warning\n",
    "import warnings\n",
    "warnings.filterwarnings(action='ignore')"
   ]
  },
  {
   "cell_type": "code",
   "execution_count": 250,
   "id": "279291a9",
   "metadata": {},
   "outputs": [
    {
     "data": {
      "text/html": [
       "<div>\n",
       "<style scoped>\n",
       "    .dataframe tbody tr th:only-of-type {\n",
       "        vertical-align: middle;\n",
       "    }\n",
       "\n",
       "    .dataframe tbody tr th {\n",
       "        vertical-align: top;\n",
       "    }\n",
       "\n",
       "    .dataframe thead th {\n",
       "        text-align: right;\n",
       "    }\n",
       "</style>\n",
       "<table border=\"1\" class=\"dataframe\">\n",
       "  <thead>\n",
       "    <tr style=\"text-align: right;\">\n",
       "      <th></th>\n",
       "      <th>instant</th>\n",
       "      <th>dteday</th>\n",
       "      <th>season</th>\n",
       "      <th>yr</th>\n",
       "      <th>mnth</th>\n",
       "      <th>holiday</th>\n",
       "      <th>weekday</th>\n",
       "      <th>workingday</th>\n",
       "      <th>weathersit</th>\n",
       "      <th>temp</th>\n",
       "      <th>atemp</th>\n",
       "      <th>hum</th>\n",
       "      <th>windspeed</th>\n",
       "      <th>casual</th>\n",
       "      <th>registered</th>\n",
       "      <th>cnt</th>\n",
       "    </tr>\n",
       "  </thead>\n",
       "  <tbody>\n",
       "    <tr>\n",
       "      <th>0</th>\n",
       "      <td>1</td>\n",
       "      <td>01-01-2018</td>\n",
       "      <td>1</td>\n",
       "      <td>0</td>\n",
       "      <td>1</td>\n",
       "      <td>0</td>\n",
       "      <td>6</td>\n",
       "      <td>0</td>\n",
       "      <td>2</td>\n",
       "      <td>14.110847</td>\n",
       "      <td>18.18125</td>\n",
       "      <td>80.5833</td>\n",
       "      <td>10.749882</td>\n",
       "      <td>331</td>\n",
       "      <td>654</td>\n",
       "      <td>985</td>\n",
       "    </tr>\n",
       "    <tr>\n",
       "      <th>1</th>\n",
       "      <td>2</td>\n",
       "      <td>02-01-2018</td>\n",
       "      <td>1</td>\n",
       "      <td>0</td>\n",
       "      <td>1</td>\n",
       "      <td>0</td>\n",
       "      <td>0</td>\n",
       "      <td>0</td>\n",
       "      <td>2</td>\n",
       "      <td>14.902598</td>\n",
       "      <td>17.68695</td>\n",
       "      <td>69.6087</td>\n",
       "      <td>16.652113</td>\n",
       "      <td>131</td>\n",
       "      <td>670</td>\n",
       "      <td>801</td>\n",
       "    </tr>\n",
       "    <tr>\n",
       "      <th>2</th>\n",
       "      <td>3</td>\n",
       "      <td>03-01-2018</td>\n",
       "      <td>1</td>\n",
       "      <td>0</td>\n",
       "      <td>1</td>\n",
       "      <td>0</td>\n",
       "      <td>1</td>\n",
       "      <td>1</td>\n",
       "      <td>1</td>\n",
       "      <td>8.050924</td>\n",
       "      <td>9.47025</td>\n",
       "      <td>43.7273</td>\n",
       "      <td>16.636703</td>\n",
       "      <td>120</td>\n",
       "      <td>1229</td>\n",
       "      <td>1349</td>\n",
       "    </tr>\n",
       "    <tr>\n",
       "      <th>3</th>\n",
       "      <td>4</td>\n",
       "      <td>04-01-2018</td>\n",
       "      <td>1</td>\n",
       "      <td>0</td>\n",
       "      <td>1</td>\n",
       "      <td>0</td>\n",
       "      <td>2</td>\n",
       "      <td>1</td>\n",
       "      <td>1</td>\n",
       "      <td>8.200000</td>\n",
       "      <td>10.60610</td>\n",
       "      <td>59.0435</td>\n",
       "      <td>10.739832</td>\n",
       "      <td>108</td>\n",
       "      <td>1454</td>\n",
       "      <td>1562</td>\n",
       "    </tr>\n",
       "    <tr>\n",
       "      <th>4</th>\n",
       "      <td>5</td>\n",
       "      <td>05-01-2018</td>\n",
       "      <td>1</td>\n",
       "      <td>0</td>\n",
       "      <td>1</td>\n",
       "      <td>0</td>\n",
       "      <td>3</td>\n",
       "      <td>1</td>\n",
       "      <td>1</td>\n",
       "      <td>9.305237</td>\n",
       "      <td>11.46350</td>\n",
       "      <td>43.6957</td>\n",
       "      <td>12.522300</td>\n",
       "      <td>82</td>\n",
       "      <td>1518</td>\n",
       "      <td>1600</td>\n",
       "    </tr>\n",
       "  </tbody>\n",
       "</table>\n",
       "</div>"
      ],
      "text/plain": [
       "   instant      dteday  season  yr  mnth  holiday  weekday  workingday  \\\n",
       "0        1  01-01-2018       1   0     1        0        6           0   \n",
       "1        2  02-01-2018       1   0     1        0        0           0   \n",
       "2        3  03-01-2018       1   0     1        0        1           1   \n",
       "3        4  04-01-2018       1   0     1        0        2           1   \n",
       "4        5  05-01-2018       1   0     1        0        3           1   \n",
       "\n",
       "   weathersit       temp     atemp      hum  windspeed  casual  registered  \\\n",
       "0           2  14.110847  18.18125  80.5833  10.749882     331         654   \n",
       "1           2  14.902598  17.68695  69.6087  16.652113     131         670   \n",
       "2           1   8.050924   9.47025  43.7273  16.636703     120        1229   \n",
       "3           1   8.200000  10.60610  59.0435  10.739832     108        1454   \n",
       "4           1   9.305237  11.46350  43.6957  12.522300      82        1518   \n",
       "\n",
       "    cnt  \n",
       "0   985  \n",
       "1   801  \n",
       "2  1349  \n",
       "3  1562  \n",
       "4  1600  "
      ]
     },
     "execution_count": 250,
     "metadata": {},
     "output_type": "execute_result"
    }
   ],
   "source": [
    "# Load the data\n",
    "rides = pd.read_csv('day.csv')\n",
    "\n",
    "# Look at the top 5 data\n",
    "rides.head()"
   ]
  },
  {
   "cell_type": "code",
   "execution_count": 251,
   "id": "4fd28e2a",
   "metadata": {},
   "outputs": [
    {
     "data": {
      "text/plain": [
       "(730, 16)"
      ]
     },
     "execution_count": 251,
     "metadata": {},
     "output_type": "execute_result"
    }
   ],
   "source": [
    "# Look at the data shape to know row and column size\n",
    "rides.shape"
   ]
  },
  {
   "cell_type": "markdown",
   "id": "a81cfc6d",
   "metadata": {},
   "source": [
    "---"
   ]
  },
  {
   "cell_type": "markdown",
   "id": "3a5425f1",
   "metadata": {},
   "source": [
    "## Data Cleaning"
   ]
  },
  {
   "cell_type": "markdown",
   "id": "0a5c7604",
   "metadata": {},
   "source": [
    "Identify columns with large number of null values"
   ]
  },
  {
   "cell_type": "code",
   "execution_count": 252,
   "id": "dc5b9a84",
   "metadata": {
    "scrolled": true
   },
   "outputs": [
    {
     "data": {
      "text/plain": [
       "instant       0.0\n",
       "dteday        0.0\n",
       "season        0.0\n",
       "yr            0.0\n",
       "mnth          0.0\n",
       "holiday       0.0\n",
       "weekday       0.0\n",
       "workingday    0.0\n",
       "weathersit    0.0\n",
       "temp          0.0\n",
       "atemp         0.0\n",
       "hum           0.0\n",
       "windspeed     0.0\n",
       "casual        0.0\n",
       "registered    0.0\n",
       "cnt           0.0\n",
       "dtype: float64"
      ]
     },
     "execution_count": 252,
     "metadata": {},
     "output_type": "execute_result"
    }
   ],
   "source": [
    "# Look for the null % for each columns\n",
    "round(rides.isnull().sum()/len(rides.index), 2)*100"
   ]
  },
  {
   "cell_type": "markdown",
   "id": "de0bac45",
   "metadata": {},
   "source": [
    "As seen there are no columns with null values. Hence no handling required"
   ]
  },
  {
   "cell_type": "markdown",
   "id": "8267db67",
   "metadata": {},
   "source": [
    "### Based on the details provided we can drop below\n",
    "- instant: It's just the record index and would not add value\n",
    "- dteday: It's the date of transaction. The required details like year, month, day is already available. \n",
    "- casual + registered: cnt is the sum of these 2"
   ]
  },
  {
   "cell_type": "code",
   "execution_count": 253,
   "id": "4df212e5",
   "metadata": {},
   "outputs": [
    {
     "data": {
      "text/html": [
       "<div>\n",
       "<style scoped>\n",
       "    .dataframe tbody tr th:only-of-type {\n",
       "        vertical-align: middle;\n",
       "    }\n",
       "\n",
       "    .dataframe tbody tr th {\n",
       "        vertical-align: top;\n",
       "    }\n",
       "\n",
       "    .dataframe thead th {\n",
       "        text-align: right;\n",
       "    }\n",
       "</style>\n",
       "<table border=\"1\" class=\"dataframe\">\n",
       "  <thead>\n",
       "    <tr style=\"text-align: right;\">\n",
       "      <th></th>\n",
       "      <th>season</th>\n",
       "      <th>yr</th>\n",
       "      <th>mnth</th>\n",
       "      <th>holiday</th>\n",
       "      <th>weekday</th>\n",
       "      <th>workingday</th>\n",
       "      <th>weathersit</th>\n",
       "      <th>temp</th>\n",
       "      <th>atemp</th>\n",
       "      <th>hum</th>\n",
       "      <th>windspeed</th>\n",
       "      <th>cnt</th>\n",
       "    </tr>\n",
       "  </thead>\n",
       "  <tbody>\n",
       "    <tr>\n",
       "      <th>0</th>\n",
       "      <td>1</td>\n",
       "      <td>0</td>\n",
       "      <td>1</td>\n",
       "      <td>0</td>\n",
       "      <td>6</td>\n",
       "      <td>0</td>\n",
       "      <td>2</td>\n",
       "      <td>14.110847</td>\n",
       "      <td>18.18125</td>\n",
       "      <td>80.5833</td>\n",
       "      <td>10.749882</td>\n",
       "      <td>985</td>\n",
       "    </tr>\n",
       "    <tr>\n",
       "      <th>1</th>\n",
       "      <td>1</td>\n",
       "      <td>0</td>\n",
       "      <td>1</td>\n",
       "      <td>0</td>\n",
       "      <td>0</td>\n",
       "      <td>0</td>\n",
       "      <td>2</td>\n",
       "      <td>14.902598</td>\n",
       "      <td>17.68695</td>\n",
       "      <td>69.6087</td>\n",
       "      <td>16.652113</td>\n",
       "      <td>801</td>\n",
       "    </tr>\n",
       "    <tr>\n",
       "      <th>2</th>\n",
       "      <td>1</td>\n",
       "      <td>0</td>\n",
       "      <td>1</td>\n",
       "      <td>0</td>\n",
       "      <td>1</td>\n",
       "      <td>1</td>\n",
       "      <td>1</td>\n",
       "      <td>8.050924</td>\n",
       "      <td>9.47025</td>\n",
       "      <td>43.7273</td>\n",
       "      <td>16.636703</td>\n",
       "      <td>1349</td>\n",
       "    </tr>\n",
       "    <tr>\n",
       "      <th>3</th>\n",
       "      <td>1</td>\n",
       "      <td>0</td>\n",
       "      <td>1</td>\n",
       "      <td>0</td>\n",
       "      <td>2</td>\n",
       "      <td>1</td>\n",
       "      <td>1</td>\n",
       "      <td>8.200000</td>\n",
       "      <td>10.60610</td>\n",
       "      <td>59.0435</td>\n",
       "      <td>10.739832</td>\n",
       "      <td>1562</td>\n",
       "    </tr>\n",
       "    <tr>\n",
       "      <th>4</th>\n",
       "      <td>1</td>\n",
       "      <td>0</td>\n",
       "      <td>1</td>\n",
       "      <td>0</td>\n",
       "      <td>3</td>\n",
       "      <td>1</td>\n",
       "      <td>1</td>\n",
       "      <td>9.305237</td>\n",
       "      <td>11.46350</td>\n",
       "      <td>43.6957</td>\n",
       "      <td>12.522300</td>\n",
       "      <td>1600</td>\n",
       "    </tr>\n",
       "  </tbody>\n",
       "</table>\n",
       "</div>"
      ],
      "text/plain": [
       "   season  yr  mnth  holiday  weekday  workingday  weathersit       temp  \\\n",
       "0       1   0     1        0        6           0           2  14.110847   \n",
       "1       1   0     1        0        0           0           2  14.902598   \n",
       "2       1   0     1        0        1           1           1   8.050924   \n",
       "3       1   0     1        0        2           1           1   8.200000   \n",
       "4       1   0     1        0        3           1           1   9.305237   \n",
       "\n",
       "      atemp      hum  windspeed   cnt  \n",
       "0  18.18125  80.5833  10.749882   985  \n",
       "1  17.68695  69.6087  16.652113   801  \n",
       "2   9.47025  43.7273  16.636703  1349  \n",
       "3  10.60610  59.0435  10.739832  1562  \n",
       "4  11.46350  43.6957  12.522300  1600  "
      ]
     },
     "execution_count": 253,
     "metadata": {},
     "output_type": "execute_result"
    }
   ],
   "source": [
    "# Create an array of all columns that can be dropped\n",
    "drop_columns = ['instant', 'dteday', 'casual', 'registered']\n",
    "\n",
    "# Drop columns in place\n",
    "rides.drop(drop_columns, axis=1, inplace=True)\n",
    "rides.head()"
   ]
  },
  {
   "cell_type": "markdown",
   "id": "27a3e0c2",
   "metadata": {},
   "source": [
    "### Map the categorical variables with text values"
   ]
  },
  {
   "cell_type": "markdown",
   "id": "a32026d7",
   "metadata": {},
   "source": [
    "_Season_"
   ]
  },
  {
   "cell_type": "code",
   "execution_count": 254,
   "id": "4b92b733",
   "metadata": {},
   "outputs": [
    {
     "data": {
      "text/plain": [
       "fall      188\n",
       "summer    184\n",
       "spring    180\n",
       "winter    178\n",
       "Name: season, dtype: int64"
      ]
     },
     "execution_count": 254,
     "metadata": {},
     "output_type": "execute_result"
    }
   ],
   "source": [
    "# Let us map the season with the corresponding name to make it more clear\n",
    "season = {1:'spring', 2: 'summer', 3: 'fall', 4: 'winter'}\n",
    "rides['season'] = rides['season'].apply(lambda x: season[x])\n",
    "rides['season'].value_counts()"
   ]
  },
  {
   "cell_type": "markdown",
   "id": "11df099e",
   "metadata": {},
   "source": [
    "_Months_"
   ]
  },
  {
   "cell_type": "code",
   "execution_count": 255,
   "id": "c56a2fdd",
   "metadata": {},
   "outputs": [
    {
     "data": {
      "text/plain": [
       "jan    62\n",
       "mar    62\n",
       "may    62\n",
       "jul    62\n",
       "aug    62\n",
       "oct    62\n",
       "dec    62\n",
       "apr    60\n",
       "jun    60\n",
       "sep    60\n",
       "nov    60\n",
       "feb    56\n",
       "Name: mnth, dtype: int64"
      ]
     },
     "execution_count": 255,
     "metadata": {},
     "output_type": "execute_result"
    }
   ],
   "source": [
    "# Let us map the month with corresponding name to make it more clear\n",
    "months = {1: 'jan', \n",
    "          2: 'feb', \n",
    "          3: 'mar', \n",
    "          4: 'apr', \n",
    "          5: 'may', \n",
    "          6: 'jun', \n",
    "          7: 'jul', \n",
    "          8: 'aug',\n",
    "          9: 'sep',\n",
    "          10: 'oct',\n",
    "          11: 'nov',\n",
    "          12: 'dec'\n",
    "         }\n",
    "rides['mnth'] = rides['mnth'].apply(lambda x: months[x])\n",
    "rides['mnth'].value_counts()"
   ]
  },
  {
   "cell_type": "markdown",
   "id": "294c2662",
   "metadata": {},
   "source": [
    "_Weather_"
   ]
  },
  {
   "cell_type": "code",
   "execution_count": 256,
   "id": "9d80f478",
   "metadata": {},
   "outputs": [
    {
     "data": {
      "text/plain": [
       "clear    463\n",
       "mist     246\n",
       "snow      21\n",
       "Name: weathersit, dtype: int64"
      ]
     },
     "execution_count": 256,
     "metadata": {},
     "output_type": "execute_result"
    }
   ],
   "source": [
    "# Let us map the weather with corresponding name to make it more clear\n",
    "weather = {1: 'clear', 2: 'mist', 3: 'snow', 4: 'rain'}\n",
    "rides['weathersit'] = rides['weathersit'].apply(lambda x: weather[x])\n",
    "rides['weathersit'].value_counts()"
   ]
  },
  {
   "cell_type": "markdown",
   "id": "250b2925",
   "metadata": {},
   "source": [
    "_Weekday_"
   ]
  },
  {
   "cell_type": "code",
   "execution_count": 257,
   "id": "2726b24d",
   "metadata": {
    "scrolled": true
   },
   "outputs": [
    {
     "data": {
      "text/plain": [
       "saturday     105\n",
       "sunday       105\n",
       "monday       105\n",
       "tuesday      104\n",
       "thursday     104\n",
       "friday       104\n",
       "wednesday    103\n",
       "Name: weekday, dtype: int64"
      ]
     },
     "execution_count": 257,
     "metadata": {},
     "output_type": "execute_result"
    }
   ],
   "source": [
    "# Let us map the weekday with corresponding name to make it more clear\n",
    "weekday = {0: 'sunday', 1: 'monday', 2: 'tuesday', 3: 'wednesday', 4: 'thursday', 5: 'friday', 6: 'saturday' }\n",
    "rides['weekday'] = rides['weekday'].apply(lambda x: weekday[x])\n",
    "rides['weekday'].value_counts()"
   ]
  },
  {
   "cell_type": "code",
   "execution_count": 258,
   "id": "58138741",
   "metadata": {},
   "outputs": [
    {
     "data": {
      "text/html": [
       "<div>\n",
       "<style scoped>\n",
       "    .dataframe tbody tr th:only-of-type {\n",
       "        vertical-align: middle;\n",
       "    }\n",
       "\n",
       "    .dataframe tbody tr th {\n",
       "        vertical-align: top;\n",
       "    }\n",
       "\n",
       "    .dataframe thead th {\n",
       "        text-align: right;\n",
       "    }\n",
       "</style>\n",
       "<table border=\"1\" class=\"dataframe\">\n",
       "  <thead>\n",
       "    <tr style=\"text-align: right;\">\n",
       "      <th></th>\n",
       "      <th>season</th>\n",
       "      <th>yr</th>\n",
       "      <th>mnth</th>\n",
       "      <th>holiday</th>\n",
       "      <th>weekday</th>\n",
       "      <th>workingday</th>\n",
       "      <th>weathersit</th>\n",
       "      <th>temp</th>\n",
       "      <th>atemp</th>\n",
       "      <th>hum</th>\n",
       "      <th>windspeed</th>\n",
       "      <th>cnt</th>\n",
       "    </tr>\n",
       "  </thead>\n",
       "  <tbody>\n",
       "    <tr>\n",
       "      <th>0</th>\n",
       "      <td>spring</td>\n",
       "      <td>0</td>\n",
       "      <td>jan</td>\n",
       "      <td>0</td>\n",
       "      <td>saturday</td>\n",
       "      <td>0</td>\n",
       "      <td>mist</td>\n",
       "      <td>14.110847</td>\n",
       "      <td>18.18125</td>\n",
       "      <td>80.5833</td>\n",
       "      <td>10.749882</td>\n",
       "      <td>985</td>\n",
       "    </tr>\n",
       "    <tr>\n",
       "      <th>1</th>\n",
       "      <td>spring</td>\n",
       "      <td>0</td>\n",
       "      <td>jan</td>\n",
       "      <td>0</td>\n",
       "      <td>sunday</td>\n",
       "      <td>0</td>\n",
       "      <td>mist</td>\n",
       "      <td>14.902598</td>\n",
       "      <td>17.68695</td>\n",
       "      <td>69.6087</td>\n",
       "      <td>16.652113</td>\n",
       "      <td>801</td>\n",
       "    </tr>\n",
       "    <tr>\n",
       "      <th>2</th>\n",
       "      <td>spring</td>\n",
       "      <td>0</td>\n",
       "      <td>jan</td>\n",
       "      <td>0</td>\n",
       "      <td>monday</td>\n",
       "      <td>1</td>\n",
       "      <td>clear</td>\n",
       "      <td>8.050924</td>\n",
       "      <td>9.47025</td>\n",
       "      <td>43.7273</td>\n",
       "      <td>16.636703</td>\n",
       "      <td>1349</td>\n",
       "    </tr>\n",
       "    <tr>\n",
       "      <th>3</th>\n",
       "      <td>spring</td>\n",
       "      <td>0</td>\n",
       "      <td>jan</td>\n",
       "      <td>0</td>\n",
       "      <td>tuesday</td>\n",
       "      <td>1</td>\n",
       "      <td>clear</td>\n",
       "      <td>8.200000</td>\n",
       "      <td>10.60610</td>\n",
       "      <td>59.0435</td>\n",
       "      <td>10.739832</td>\n",
       "      <td>1562</td>\n",
       "    </tr>\n",
       "    <tr>\n",
       "      <th>4</th>\n",
       "      <td>spring</td>\n",
       "      <td>0</td>\n",
       "      <td>jan</td>\n",
       "      <td>0</td>\n",
       "      <td>wednesday</td>\n",
       "      <td>1</td>\n",
       "      <td>clear</td>\n",
       "      <td>9.305237</td>\n",
       "      <td>11.46350</td>\n",
       "      <td>43.6957</td>\n",
       "      <td>12.522300</td>\n",
       "      <td>1600</td>\n",
       "    </tr>\n",
       "  </tbody>\n",
       "</table>\n",
       "</div>"
      ],
      "text/plain": [
       "   season  yr mnth  holiday    weekday  workingday weathersit       temp  \\\n",
       "0  spring   0  jan        0   saturday           0       mist  14.110847   \n",
       "1  spring   0  jan        0     sunday           0       mist  14.902598   \n",
       "2  spring   0  jan        0     monday           1      clear   8.050924   \n",
       "3  spring   0  jan        0    tuesday           1      clear   8.200000   \n",
       "4  spring   0  jan        0  wednesday           1      clear   9.305237   \n",
       "\n",
       "      atemp      hum  windspeed   cnt  \n",
       "0  18.18125  80.5833  10.749882   985  \n",
       "1  17.68695  69.6087  16.652113   801  \n",
       "2   9.47025  43.7273  16.636703  1349  \n",
       "3  10.60610  59.0435  10.739832  1562  \n",
       "4  11.46350  43.6957  12.522300  1600  "
      ]
     },
     "execution_count": 258,
     "metadata": {},
     "output_type": "execute_result"
    }
   ],
   "source": [
    "# Let us look at the data now\n",
    "rides.head()"
   ]
  },
  {
   "cell_type": "markdown",
   "id": "d2f1b5f2",
   "metadata": {},
   "source": [
    "## Data Analysis"
   ]
  },
  {
   "cell_type": "markdown",
   "id": "2366187a",
   "metadata": {},
   "source": [
    "### Univariate Analysis"
   ]
  },
  {
   "cell_type": "code",
   "execution_count": 259,
   "id": "8aaf0c95",
   "metadata": {},
   "outputs": [
    {
     "data": {
      "text/plain": [
       "([0, 1, 2], [Text(0, 0, 'mist'), Text(1, 0, 'clear'), Text(2, 0, 'snow')])"
      ]
     },
     "execution_count": 259,
     "metadata": {},
     "output_type": "execute_result"
    },
    {
     "data": {
      "image/png": "[encoded data removed]",
      "text/plain": [
       "<Figure size 2000x1000 with 6 Axes>"
      ]
     },
     "metadata": {},
     "output_type": "display_data"
    }
   ],
   "source": [
    "plt.figure(figsize=(20,10))\n",
    "plt.subplot(2,3,1)\n",
    "# Histplot of season\n",
    "sns.histplot(data=rides, x=\"season\")\n",
    "plt.xticks(rotation=60)\n",
    "plt.subplot(2,3,2)\n",
    "# Histplot of year\n",
    "sns.histplot(data=rides, x=\"yr\")\n",
    "plt.xticks(rotation=60)\n",
    "plt.subplot(2,3,3)\n",
    "# Histplot of months\n",
    "sns.histplot(data=rides, x=\"mnth\")\n",
    "plt.xticks(rotation=60)\n",
    "plt.subplot(2,3,4)\n",
    "# Histplot of weekdays\n",
    "sns.histplot(data=rides, x=\"weekday\")\n",
    "plt.xticks(rotation=60)\n",
    "plt.subplot(2,3,5)\n",
    "# Histplot of working day/holiday\n",
    "sns.histplot(data=rides, x=\"workingday\")\n",
    "plt.xticks(rotation=60)\n",
    "plt.subplot(2,3,6)\n",
    "# Histplot of weather\n",
    "sns.histplot(data=rides, x=\"weathersit\")\n",
    "plt.xticks(rotation=60)"
   ]
  },
  {
   "cell_type": "markdown",
   "id": "d197207a",
   "metadata": {},
   "source": [
    "#### As we can see in the plots above:\n",
    "- More rides were made on working days\n",
    "- Rides were the least when snowing"
   ]
  },
  {
   "cell_type": "markdown",
   "id": "05865c46",
   "metadata": {},
   "source": [
    "### Bi-Variate Analysis"
   ]
  },
  {
   "cell_type": "code",
   "execution_count": 262,
   "id": "561ec2b5",
   "metadata": {},
   "outputs": [
    {
     "data": {
      "text/plain": [
       "<seaborn.axisgrid.PairGrid at 0x27290553760>"
      ]
     },
     "execution_count": 262,
     "metadata": {},
     "output_type": "execute_result"
    },
    {
     "data": {
      "image/png": "[encoded data removed]",
      "text/plain": [
       "<Figure size 1000x250 with 4 Axes>"
      ]
     },
     "metadata": {},
     "output_type": "display_data"
    }
   ],
   "source": [
    "sns.pairplot(data=rides, x_vars=['temp', 'atemp', 'hum', 'windspeed'], y_vars=['cnt'])"
   ]
  },
  {
   "cell_type": "code",
   "execution_count": 263,
   "id": "3f5f102d",
   "metadata": {},
   "outputs": [
    {
     "data": {
      "text/plain": [
       "<Axes: >"
      ]
     },
     "execution_count": 263,
     "metadata": {},
     "output_type": "execute_result"
    },
    {
     "data": {
      "image/png": "[encoded data removed]",
      "text/plain": [
       "<Figure size 640x480 with 2 Axes>"
      ]
     },
     "metadata": {},
     "output_type": "display_data"
    }
   ],
   "source": [
    "sns.heatmap(rides.corr(), annot=True, cmap=\"Greens\")"
   ]
  },
  {
   "cell_type": "markdown",
   "id": "6d9388be",
   "metadata": {},
   "source": [
    "#### Few observations:\n",
    "- temp and atemp seems to have linear relationship based on above plots\n",
    "- temp and atemp have correlation"
   ]
  },
  {
   "cell_type": "markdown",
   "id": "fea7191c",
   "metadata": {},
   "source": [
    "## Data Preparation"
   ]
  },
  {
   "cell_type": "markdown",
   "id": "dea42621",
   "metadata": {},
   "source": [
    "#### Encode variables - Create dummies"
   ]
  },
  {
   "cell_type": "code",
   "execution_count": 264,
   "id": "edc485bc",
   "metadata": {},
   "outputs": [
    {
     "data": {
      "text/html": [
       "<div>\n",
       "<style scoped>\n",
       "    .dataframe tbody tr th:only-of-type {\n",
       "        vertical-align: middle;\n",
       "    }\n",
       "\n",
       "    .dataframe tbody tr th {\n",
       "        vertical-align: top;\n",
       "    }\n",
       "\n",
       "    .dataframe thead th {\n",
       "        text-align: right;\n",
       "    }\n",
       "</style>\n",
       "<table border=\"1\" class=\"dataframe\">\n",
       "  <thead>\n",
       "    <tr style=\"text-align: right;\">\n",
       "      <th></th>\n",
       "      <th>yr</th>\n",
       "      <th>holiday</th>\n",
       "      <th>workingday</th>\n",
       "      <th>temp</th>\n",
       "      <th>atemp</th>\n",
       "      <th>hum</th>\n",
       "      <th>windspeed</th>\n",
       "      <th>cnt</th>\n",
       "      <th>season_spring</th>\n",
       "      <th>season_summer</th>\n",
       "      <th>...</th>\n",
       "      <th>mnth_oct</th>\n",
       "      <th>mnth_sep</th>\n",
       "      <th>weekday_monday</th>\n",
       "      <th>weekday_saturday</th>\n",
       "      <th>weekday_sunday</th>\n",
       "      <th>weekday_thursday</th>\n",
       "      <th>weekday_tuesday</th>\n",
       "      <th>weekday_wednesday</th>\n",
       "      <th>weathersit_mist</th>\n",
       "      <th>weathersit_snow</th>\n",
       "    </tr>\n",
       "  </thead>\n",
       "  <tbody>\n",
       "    <tr>\n",
       "      <th>0</th>\n",
       "      <td>0</td>\n",
       "      <td>0</td>\n",
       "      <td>0</td>\n",
       "      <td>14.110847</td>\n",
       "      <td>18.18125</td>\n",
       "      <td>80.5833</td>\n",
       "      <td>10.749882</td>\n",
       "      <td>985</td>\n",
       "      <td>1</td>\n",
       "      <td>0</td>\n",
       "      <td>...</td>\n",
       "      <td>0</td>\n",
       "      <td>0</td>\n",
       "      <td>0</td>\n",
       "      <td>1</td>\n",
       "      <td>0</td>\n",
       "      <td>0</td>\n",
       "      <td>0</td>\n",
       "      <td>0</td>\n",
       "      <td>1</td>\n",
       "      <td>0</td>\n",
       "    </tr>\n",
       "    <tr>\n",
       "      <th>1</th>\n",
       "      <td>0</td>\n",
       "      <td>0</td>\n",
       "      <td>0</td>\n",
       "      <td>14.902598</td>\n",
       "      <td>17.68695</td>\n",
       "      <td>69.6087</td>\n",
       "      <td>16.652113</td>\n",
       "      <td>801</td>\n",
       "      <td>1</td>\n",
       "      <td>0</td>\n",
       "      <td>...</td>\n",
       "      <td>0</td>\n",
       "      <td>0</td>\n",
       "      <td>0</td>\n",
       "      <td>0</td>\n",
       "      <td>1</td>\n",
       "      <td>0</td>\n",
       "      <td>0</td>\n",
       "      <td>0</td>\n",
       "      <td>1</td>\n",
       "      <td>0</td>\n",
       "    </tr>\n",
       "    <tr>\n",
       "      <th>2</th>\n",
       "      <td>0</td>\n",
       "      <td>0</td>\n",
       "      <td>1</td>\n",
       "      <td>8.050924</td>\n",
       "      <td>9.47025</td>\n",
       "      <td>43.7273</td>\n",
       "      <td>16.636703</td>\n",
       "      <td>1349</td>\n",
       "      <td>1</td>\n",
       "      <td>0</td>\n",
       "      <td>...</td>\n",
       "      <td>0</td>\n",
       "      <td>0</td>\n",
       "      <td>1</td>\n",
       "      <td>0</td>\n",
       "      <td>0</td>\n",
       "      <td>0</td>\n",
       "      <td>0</td>\n",
       "      <td>0</td>\n",
       "      <td>0</td>\n",
       "      <td>0</td>\n",
       "    </tr>\n",
       "    <tr>\n",
       "      <th>3</th>\n",
       "      <td>0</td>\n",
       "      <td>0</td>\n",
       "      <td>1</td>\n",
       "      <td>8.200000</td>\n",
       "      <td>10.60610</td>\n",
       "      <td>59.0435</td>\n",
       "      <td>10.739832</td>\n",
       "      <td>1562</td>\n",
       "      <td>1</td>\n",
       "      <td>0</td>\n",
       "      <td>...</td>\n",
       "      <td>0</td>\n",
       "      <td>0</td>\n",
       "      <td>0</td>\n",
       "      <td>0</td>\n",
       "      <td>0</td>\n",
       "      <td>0</td>\n",
       "      <td>1</td>\n",
       "      <td>0</td>\n",
       "      <td>0</td>\n",
       "      <td>0</td>\n",
       "    </tr>\n",
       "    <tr>\n",
       "      <th>4</th>\n",
       "      <td>0</td>\n",
       "      <td>0</td>\n",
       "      <td>1</td>\n",
       "      <td>9.305237</td>\n",
       "      <td>11.46350</td>\n",
       "      <td>43.6957</td>\n",
       "      <td>12.522300</td>\n",
       "      <td>1600</td>\n",
       "      <td>1</td>\n",
       "      <td>0</td>\n",
       "      <td>...</td>\n",
       "      <td>0</td>\n",
       "      <td>0</td>\n",
       "      <td>0</td>\n",
       "      <td>0</td>\n",
       "      <td>0</td>\n",
       "      <td>0</td>\n",
       "      <td>0</td>\n",
       "      <td>1</td>\n",
       "      <td>0</td>\n",
       "      <td>0</td>\n",
       "    </tr>\n",
       "  </tbody>\n",
       "</table>\n",
       "<p>5 rows × 30 columns</p>\n",
       "</div>"
      ],
      "text/plain": [
       "   yr  holiday  workingday       temp     atemp      hum  windspeed   cnt  \\\n",
       "0   0        0           0  14.110847  18.18125  80.5833  10.749882   985   \n",
       "1   0        0           0  14.902598  17.68695  69.6087  16.652113   801   \n",
       "2   0        0           1   8.050924   9.47025  43.7273  16.636703  1349   \n",
       "3   0        0           1   8.200000  10.60610  59.0435  10.739832  1562   \n",
       "4   0        0           1   9.305237  11.46350  43.6957  12.522300  1600   \n",
       "\n",
       "   season_spring  season_summer  ...  mnth_oct  mnth_sep  weekday_monday  \\\n",
       "0              1              0  ...         0         0               0   \n",
       "1              1              0  ...         0         0               0   \n",
       "2              1              0  ...         0         0               1   \n",
       "3              1              0  ...         0         0               0   \n",
       "4              1              0  ...         0         0               0   \n",
       "\n",
       "   weekday_saturday  weekday_sunday  weekday_thursday  weekday_tuesday  \\\n",
       "0                 1               0                 0                0   \n",
       "1                 0               1                 0                0   \n",
       "2                 0               0                 0                0   \n",
       "3                 0               0                 0                1   \n",
       "4                 0               0                 0                0   \n",
       "\n",
       "   weekday_wednesday  weathersit_mist  weathersit_snow  \n",
       "0                  0                1                0  \n",
       "1                  0                1                0  \n",
       "2                  0                0                0  \n",
       "3                  0                0                0  \n",
       "4                  1                0                0  \n",
       "\n",
       "[5 rows x 30 columns]"
      ]
     },
     "execution_count": 264,
     "metadata": {},
     "output_type": "execute_result"
    }
   ],
   "source": [
    "# Convert all categorical columns into dummies. This inclues season, mnth, weekday and weathersit\n",
    "rides = pd.get_dummies(rides, columns=['season', 'mnth', 'weekday', 'weathersit'], drop_first=True)\n",
    "rides.head()"
   ]
  },
  {
   "cell_type": "markdown",
   "id": "11a4cb1d",
   "metadata": {},
   "source": [
    "## Model Building\n",
    "This inclues below steps\n",
    "- Divide data into train and test data\n",
    "- Perform scaling (Min-Max)\n",
    "- Divide the data into X (independent) and y (dependent)\n",
    "- Perform Linear Regression\n",
    "- Analyze modeal"
   ]
  },
  {
   "cell_type": "markdown",
   "id": "1aa13828",
   "metadata": {},
   "source": [
    "#### Train-Test Split"
   ]
  },
  {
   "cell_type": "code",
   "execution_count": 265,
   "id": "ca3c0e3c",
   "metadata": {},
   "outputs": [],
   "source": [
    "from sklearn.model_selection import train_test_split\n",
    "train, test = train_test_split(rides, train_size = 0.7, test_size = 0.3, random_state = 100)"
   ]
  },
  {
   "cell_type": "markdown",
   "id": "6cf67f32",
   "metadata": {},
   "source": [
    "#### Scaling of continuous variables"
   ]
  },
  {
   "cell_type": "code",
   "execution_count": 266,
   "id": "bbe6e696",
   "metadata": {},
   "outputs": [],
   "source": [
    "from sklearn.preprocessing import MinMaxScaler\n",
    "scaler = MinMaxScaler()\n",
    "continuous_vars = ['temp', 'atemp', 'hum', 'windspeed', 'cnt']\n",
    "\n",
    "# For train data we need to do both fit and transform as the model needs to learn first and then transform\n",
    "train[continuous_vars] = scaler.fit_transform(train[continuous_vars])\n",
    "\n",
    "# For test data we only do transform as the model already has learnt in the above step.\n",
    "test[continuous_vars] = scaler.transform(test[continuous_vars])"
   ]
  },
  {
   "cell_type": "code",
   "execution_count": 267,
   "id": "5469c732",
   "metadata": {},
   "outputs": [
    {
     "data": {
      "text/html": [
       "<div>\n",
       "<style scoped>\n",
       "    .dataframe tbody tr th:only-of-type {\n",
       "        vertical-align: middle;\n",
       "    }\n",
       "\n",
       "    .dataframe tbody tr th {\n",
       "        vertical-align: top;\n",
       "    }\n",
       "\n",
       "    .dataframe thead th {\n",
       "        text-align: right;\n",
       "    }\n",
       "</style>\n",
       "<table border=\"1\" class=\"dataframe\">\n",
       "  <thead>\n",
       "    <tr style=\"text-align: right;\">\n",
       "      <th></th>\n",
       "      <th>yr</th>\n",
       "      <th>holiday</th>\n",
       "      <th>workingday</th>\n",
       "      <th>temp</th>\n",
       "      <th>atemp</th>\n",
       "      <th>hum</th>\n",
       "      <th>windspeed</th>\n",
       "      <th>cnt</th>\n",
       "      <th>season_spring</th>\n",
       "      <th>season_summer</th>\n",
       "      <th>...</th>\n",
       "      <th>mnth_oct</th>\n",
       "      <th>mnth_sep</th>\n",
       "      <th>weekday_monday</th>\n",
       "      <th>weekday_saturday</th>\n",
       "      <th>weekday_sunday</th>\n",
       "      <th>weekday_thursday</th>\n",
       "      <th>weekday_tuesday</th>\n",
       "      <th>weekday_wednesday</th>\n",
       "      <th>weathersit_mist</th>\n",
       "      <th>weathersit_snow</th>\n",
       "    </tr>\n",
       "  </thead>\n",
       "  <tbody>\n",
       "    <tr>\n",
       "      <th>653</th>\n",
       "      <td>1</td>\n",
       "      <td>0</td>\n",
       "      <td>1</td>\n",
       "      <td>0.509887</td>\n",
       "      <td>0.501133</td>\n",
       "      <td>0.575354</td>\n",
       "      <td>0.300794</td>\n",
       "      <td>0.864243</td>\n",
       "      <td>0</td>\n",
       "      <td>0</td>\n",
       "      <td>...</td>\n",
       "      <td>1</td>\n",
       "      <td>0</td>\n",
       "      <td>0</td>\n",
       "      <td>0</td>\n",
       "      <td>0</td>\n",
       "      <td>0</td>\n",
       "      <td>1</td>\n",
       "      <td>0</td>\n",
       "      <td>0</td>\n",
       "      <td>0</td>\n",
       "    </tr>\n",
       "    <tr>\n",
       "      <th>576</th>\n",
       "      <td>1</td>\n",
       "      <td>0</td>\n",
       "      <td>1</td>\n",
       "      <td>0.815169</td>\n",
       "      <td>0.766351</td>\n",
       "      <td>0.725633</td>\n",
       "      <td>0.264686</td>\n",
       "      <td>0.827658</td>\n",
       "      <td>0</td>\n",
       "      <td>0</td>\n",
       "      <td>...</td>\n",
       "      <td>0</td>\n",
       "      <td>0</td>\n",
       "      <td>0</td>\n",
       "      <td>0</td>\n",
       "      <td>0</td>\n",
       "      <td>0</td>\n",
       "      <td>1</td>\n",
       "      <td>0</td>\n",
       "      <td>0</td>\n",
       "      <td>0</td>\n",
       "    </tr>\n",
       "    <tr>\n",
       "      <th>426</th>\n",
       "      <td>1</td>\n",
       "      <td>0</td>\n",
       "      <td>0</td>\n",
       "      <td>0.442393</td>\n",
       "      <td>0.438975</td>\n",
       "      <td>0.640189</td>\n",
       "      <td>0.255342</td>\n",
       "      <td>0.465255</td>\n",
       "      <td>1</td>\n",
       "      <td>0</td>\n",
       "      <td>...</td>\n",
       "      <td>0</td>\n",
       "      <td>0</td>\n",
       "      <td>0</td>\n",
       "      <td>1</td>\n",
       "      <td>0</td>\n",
       "      <td>0</td>\n",
       "      <td>0</td>\n",
       "      <td>0</td>\n",
       "      <td>1</td>\n",
       "      <td>0</td>\n",
       "    </tr>\n",
       "    <tr>\n",
       "      <th>728</th>\n",
       "      <td>1</td>\n",
       "      <td>0</td>\n",
       "      <td>0</td>\n",
       "      <td>0.245101</td>\n",
       "      <td>0.200348</td>\n",
       "      <td>0.498067</td>\n",
       "      <td>0.663106</td>\n",
       "      <td>0.204096</td>\n",
       "      <td>1</td>\n",
       "      <td>0</td>\n",
       "      <td>...</td>\n",
       "      <td>0</td>\n",
       "      <td>0</td>\n",
       "      <td>0</td>\n",
       "      <td>0</td>\n",
       "      <td>1</td>\n",
       "      <td>0</td>\n",
       "      <td>0</td>\n",
       "      <td>0</td>\n",
       "      <td>0</td>\n",
       "      <td>0</td>\n",
       "    </tr>\n",
       "    <tr>\n",
       "      <th>482</th>\n",
       "      <td>1</td>\n",
       "      <td>0</td>\n",
       "      <td>0</td>\n",
       "      <td>0.395666</td>\n",
       "      <td>0.391735</td>\n",
       "      <td>0.504508</td>\n",
       "      <td>0.188475</td>\n",
       "      <td>0.482973</td>\n",
       "      <td>0</td>\n",
       "      <td>1</td>\n",
       "      <td>...</td>\n",
       "      <td>0</td>\n",
       "      <td>0</td>\n",
       "      <td>0</td>\n",
       "      <td>1</td>\n",
       "      <td>0</td>\n",
       "      <td>0</td>\n",
       "      <td>0</td>\n",
       "      <td>0</td>\n",
       "      <td>1</td>\n",
       "      <td>0</td>\n",
       "    </tr>\n",
       "  </tbody>\n",
       "</table>\n",
       "<p>5 rows × 30 columns</p>\n",
       "</div>"
      ],
      "text/plain": [
       "     yr  holiday  workingday      temp     atemp       hum  windspeed  \\\n",
       "653   1        0           1  0.509887  0.501133  0.575354   0.300794   \n",
       "576   1        0           1  0.815169  0.766351  0.725633   0.264686   \n",
       "426   1        0           0  0.442393  0.438975  0.640189   0.255342   \n",
       "728   1        0           0  0.245101  0.200348  0.498067   0.663106   \n",
       "482   1        0           0  0.395666  0.391735  0.504508   0.188475   \n",
       "\n",
       "          cnt  season_spring  season_summer  ...  mnth_oct  mnth_sep  \\\n",
       "653  0.864243              0              0  ...         1         0   \n",
       "576  0.827658              0              0  ...         0         0   \n",
       "426  0.465255              1              0  ...         0         0   \n",
       "728  0.204096              1              0  ...         0         0   \n",
       "482  0.482973              0              1  ...         0         0   \n",
       "\n",
       "     weekday_monday  weekday_saturday  weekday_sunday  weekday_thursday  \\\n",
       "653               0                 0               0                 0   \n",
       "576               0                 0               0                 0   \n",
       "426               0                 1               0                 0   \n",
       "728               0                 0               1                 0   \n",
       "482               0                 1               0                 0   \n",
       "\n",
       "     weekday_tuesday  weekday_wednesday  weathersit_mist  weathersit_snow  \n",
       "653                1                  0                0                0  \n",
       "576                1                  0                0                0  \n",
       "426                0                  0                1                0  \n",
       "728                0                  0                0                0  \n",
       "482                0                  0                1                0  \n",
       "\n",
       "[5 rows x 30 columns]"
      ]
     },
     "execution_count": 267,
     "metadata": {},
     "output_type": "execute_result"
    }
   ],
   "source": [
    "train.head()"
   ]
  },
  {
   "cell_type": "markdown",
   "id": "57c16e1f",
   "metadata": {},
   "source": [
    "#### Split into dependent (y) and independent (X) variables"
   ]
  },
  {
   "cell_type": "code",
   "execution_count": 268,
   "id": "7f875005",
   "metadata": {},
   "outputs": [],
   "source": [
    "# 'cnt' is our dependent variable. So we add all independent variables into an array\n",
    "independent_columns= [i for i in rides.columns if i != 'cnt']\n",
    "\n",
    "X_train = train[independent_columns]\n",
    "y_train = train['cnt']\n",
    "\n",
    "X_test = test[independent_columns]\n",
    "y_test = test['cnt']"
   ]
  },
  {
   "cell_type": "code",
   "execution_count": 269,
   "id": "c35441df",
   "metadata": {},
   "outputs": [
    {
     "data": {
      "text/html": [
       "<div>\n",
       "<style scoped>\n",
       "    .dataframe tbody tr th:only-of-type {\n",
       "        vertical-align: middle;\n",
       "    }\n",
       "\n",
       "    .dataframe tbody tr th {\n",
       "        vertical-align: top;\n",
       "    }\n",
       "\n",
       "    .dataframe thead th {\n",
       "        text-align: right;\n",
       "    }\n",
       "</style>\n",
       "<table border=\"1\" class=\"dataframe\">\n",
       "  <thead>\n",
       "    <tr style=\"text-align: right;\">\n",
       "      <th></th>\n",
       "      <th>yr</th>\n",
       "      <th>holiday</th>\n",
       "      <th>workingday</th>\n",
       "      <th>temp</th>\n",
       "      <th>atemp</th>\n",
       "      <th>hum</th>\n",
       "      <th>windspeed</th>\n",
       "      <th>season_spring</th>\n",
       "      <th>season_summer</th>\n",
       "      <th>season_winter</th>\n",
       "      <th>...</th>\n",
       "      <th>mnth_oct</th>\n",
       "      <th>mnth_sep</th>\n",
       "      <th>weekday_monday</th>\n",
       "      <th>weekday_saturday</th>\n",
       "      <th>weekday_sunday</th>\n",
       "      <th>weekday_thursday</th>\n",
       "      <th>weekday_tuesday</th>\n",
       "      <th>weekday_wednesday</th>\n",
       "      <th>weathersit_mist</th>\n",
       "      <th>weathersit_snow</th>\n",
       "    </tr>\n",
       "  </thead>\n",
       "  <tbody>\n",
       "    <tr>\n",
       "      <th>653</th>\n",
       "      <td>1</td>\n",
       "      <td>0</td>\n",
       "      <td>1</td>\n",
       "      <td>0.509887</td>\n",
       "      <td>0.501133</td>\n",
       "      <td>0.575354</td>\n",
       "      <td>0.300794</td>\n",
       "      <td>0</td>\n",
       "      <td>0</td>\n",
       "      <td>1</td>\n",
       "      <td>...</td>\n",
       "      <td>1</td>\n",
       "      <td>0</td>\n",
       "      <td>0</td>\n",
       "      <td>0</td>\n",
       "      <td>0</td>\n",
       "      <td>0</td>\n",
       "      <td>1</td>\n",
       "      <td>0</td>\n",
       "      <td>0</td>\n",
       "      <td>0</td>\n",
       "    </tr>\n",
       "    <tr>\n",
       "      <th>576</th>\n",
       "      <td>1</td>\n",
       "      <td>0</td>\n",
       "      <td>1</td>\n",
       "      <td>0.815169</td>\n",
       "      <td>0.766351</td>\n",
       "      <td>0.725633</td>\n",
       "      <td>0.264686</td>\n",
       "      <td>0</td>\n",
       "      <td>0</td>\n",
       "      <td>0</td>\n",
       "      <td>...</td>\n",
       "      <td>0</td>\n",
       "      <td>0</td>\n",
       "      <td>0</td>\n",
       "      <td>0</td>\n",
       "      <td>0</td>\n",
       "      <td>0</td>\n",
       "      <td>1</td>\n",
       "      <td>0</td>\n",
       "      <td>0</td>\n",
       "      <td>0</td>\n",
       "    </tr>\n",
       "    <tr>\n",
       "      <th>426</th>\n",
       "      <td>1</td>\n",
       "      <td>0</td>\n",
       "      <td>0</td>\n",
       "      <td>0.442393</td>\n",
       "      <td>0.438975</td>\n",
       "      <td>0.640189</td>\n",
       "      <td>0.255342</td>\n",
       "      <td>1</td>\n",
       "      <td>0</td>\n",
       "      <td>0</td>\n",
       "      <td>...</td>\n",
       "      <td>0</td>\n",
       "      <td>0</td>\n",
       "      <td>0</td>\n",
       "      <td>1</td>\n",
       "      <td>0</td>\n",
       "      <td>0</td>\n",
       "      <td>0</td>\n",
       "      <td>0</td>\n",
       "      <td>1</td>\n",
       "      <td>0</td>\n",
       "    </tr>\n",
       "    <tr>\n",
       "      <th>728</th>\n",
       "      <td>1</td>\n",
       "      <td>0</td>\n",
       "      <td>0</td>\n",
       "      <td>0.245101</td>\n",
       "      <td>0.200348</td>\n",
       "      <td>0.498067</td>\n",
       "      <td>0.663106</td>\n",
       "      <td>1</td>\n",
       "      <td>0</td>\n",
       "      <td>0</td>\n",
       "      <td>...</td>\n",
       "      <td>0</td>\n",
       "      <td>0</td>\n",
       "      <td>0</td>\n",
       "      <td>0</td>\n",
       "      <td>1</td>\n",
       "      <td>0</td>\n",
       "      <td>0</td>\n",
       "      <td>0</td>\n",
       "      <td>0</td>\n",
       "      <td>0</td>\n",
       "    </tr>\n",
       "    <tr>\n",
       "      <th>482</th>\n",
       "      <td>1</td>\n",
       "      <td>0</td>\n",
       "      <td>0</td>\n",
       "      <td>0.395666</td>\n",
       "      <td>0.391735</td>\n",
       "      <td>0.504508</td>\n",
       "      <td>0.188475</td>\n",
       "      <td>0</td>\n",
       "      <td>1</td>\n",
       "      <td>0</td>\n",
       "      <td>...</td>\n",
       "      <td>0</td>\n",
       "      <td>0</td>\n",
       "      <td>0</td>\n",
       "      <td>1</td>\n",
       "      <td>0</td>\n",
       "      <td>0</td>\n",
       "      <td>0</td>\n",
       "      <td>0</td>\n",
       "      <td>1</td>\n",
       "      <td>0</td>\n",
       "    </tr>\n",
       "  </tbody>\n",
       "</table>\n",
       "<p>5 rows × 29 columns</p>\n",
       "</div>"
      ],
      "text/plain": [
       "     yr  holiday  workingday      temp     atemp       hum  windspeed  \\\n",
       "653   1        0           1  0.509887  0.501133  0.575354   0.300794   \n",
       "576   1        0           1  0.815169  0.766351  0.725633   0.264686   \n",
       "426   1        0           0  0.442393  0.438975  0.640189   0.255342   \n",
       "728   1        0           0  0.245101  0.200348  0.498067   0.663106   \n",
       "482   1        0           0  0.395666  0.391735  0.504508   0.188475   \n",
       "\n",
       "     season_spring  season_summer  season_winter  ...  mnth_oct  mnth_sep  \\\n",
       "653              0              0              1  ...         1         0   \n",
       "576              0              0              0  ...         0         0   \n",
       "426              1              0              0  ...         0         0   \n",
       "728              1              0              0  ...         0         0   \n",
       "482              0              1              0  ...         0         0   \n",
       "\n",
       "     weekday_monday  weekday_saturday  weekday_sunday  weekday_thursday  \\\n",
       "653               0                 0               0                 0   \n",
       "576               0                 0               0                 0   \n",
       "426               0                 1               0                 0   \n",
       "728               0                 0               1                 0   \n",
       "482               0                 1               0                 0   \n",
       "\n",
       "     weekday_tuesday  weekday_wednesday  weathersit_mist  weathersit_snow  \n",
       "653                1                  0                0                0  \n",
       "576                1                  0                0                0  \n",
       "426                0                  0                1                0  \n",
       "728                0                  0                0                0  \n",
       "482                0                  0                1                0  \n",
       "\n",
       "[5 rows x 29 columns]"
      ]
     },
     "execution_count": 269,
     "metadata": {},
     "output_type": "execute_result"
    }
   ],
   "source": [
    "# Look at the train set\n",
    "X_train.head()"
   ]
  },
  {
   "cell_type": "code",
   "execution_count": 270,
   "id": "1b3c6adb",
   "metadata": {},
   "outputs": [
    {
     "data": {
      "text/plain": [
       "653    0.864243\n",
       "576    0.827658\n",
       "426    0.465255\n",
       "728    0.204096\n",
       "482    0.482973\n",
       "Name: cnt, dtype: float64"
      ]
     },
     "execution_count": 270,
     "metadata": {},
     "output_type": "execute_result"
    }
   ],
   "source": [
    "y_train.head()"
   ]
  },
  {
   "cell_type": "markdown",
   "id": "b252cf4a",
   "metadata": {},
   "source": [
    "### Linear Regression"
   ]
  },
  {
   "cell_type": "markdown",
   "id": "933859c8",
   "metadata": {},
   "source": [
    "#### Using statsmodel to analyze the model"
   ]
  },
  {
   "cell_type": "code",
   "execution_count": 271,
   "id": "9e4a01cd",
   "metadata": {},
   "outputs": [],
   "source": [
    "# Let us create a function that accepts X and y data and returns the model\n",
    "def stats_linear_regression(X, y):\n",
    "    X_sm = sm.add_constant(X)\n",
    "    lms = sm.OLS(y, X_sm).fit()\n",
    "    return lms"
   ]
  },
  {
   "cell_type": "code",
   "execution_count": 272,
   "id": "1595e82f",
   "metadata": {},
   "outputs": [
    {
     "name": "stdout",
     "output_type": "stream",
     "text": [
      "                            OLS Regression Results                            \n",
      "==============================================================================\n",
      "Dep. Variable:                    cnt   R-squared:                       0.853\n",
      "Model:                            OLS   Adj. R-squared:                  0.845\n",
      "Method:                 Least Squares   F-statistic:                     99.96\n",
      "Date:                Tue, 12 Sep 2023   Prob (F-statistic):          8.42e-181\n",
      "Time:                        11:03:54   Log-Likelihood:                 528.03\n",
      "No. Observations:                 510   AIC:                            -998.1\n",
      "Df Residuals:                     481   BIC:                            -875.3\n",
      "Df Model:                          28                                         \n",
      "Covariance Type:            nonrobust                                         \n",
      "=====================================================================================\n",
      "                        coef    std err          t      P>|t|      [0.025      0.975]\n",
      "-------------------------------------------------------------------------------------\n",
      "const                 0.2452      0.035      6.953      0.000       0.176       0.315\n",
      "yr                    0.2322      0.008     28.792      0.000       0.216       0.248\n",
      "holiday               0.0107      0.024      0.443      0.658      -0.037       0.058\n",
      "workingday            0.0970      0.012      7.903      0.000       0.073       0.121\n",
      "temp                  0.4013      0.142      2.821      0.005       0.122       0.681\n",
      "atemp                 0.0506      0.138      0.366      0.714      -0.221       0.322\n",
      "hum                  -0.1518      0.039     -3.940      0.000      -0.228      -0.076\n",
      "windspeed            -0.1844      0.026     -7.003      0.000      -0.236      -0.133\n",
      "season_spring        -0.0486      0.030     -1.618      0.106      -0.108       0.010\n",
      "season_summer         0.0382      0.026      1.455      0.146      -0.013       0.090\n",
      "season_winter         0.1054      0.028      3.770      0.000       0.050       0.160\n",
      "mnth_aug              0.0161      0.034      0.473      0.637      -0.051       0.083\n",
      "mnth_dec             -0.0456      0.034     -1.356      0.176      -0.112       0.020\n",
      "mnth_feb             -0.0322      0.033     -0.978      0.329      -0.097       0.032\n",
      "mnth_jan             -0.0626      0.034     -1.864      0.063      -0.129       0.003\n",
      "mnth_jul             -0.0393      0.035     -1.116      0.265      -0.108       0.030\n",
      "mnth_jun             -0.0017      0.025     -0.067      0.946      -0.051       0.048\n",
      "mnth_mar              0.0013      0.025      0.052      0.958      -0.047       0.050\n",
      "mnth_may              0.0247      0.021      1.169      0.243      -0.017       0.066\n",
      "mnth_nov             -0.0418      0.036     -1.149      0.251      -0.113       0.030\n",
      "mnth_oct              0.0077      0.036      0.215      0.830      -0.063       0.078\n",
      "mnth_sep              0.0818      0.032      2.549      0.011       0.019       0.145\n",
      "weekday_monday       -0.0215      0.015     -1.395      0.164      -0.052       0.009\n",
      "weekday_saturday      0.0961      0.014      6.984      0.000       0.069       0.123\n",
      "weekday_sunday        0.0415      0.014      2.974      0.003       0.014       0.069\n",
      "weekday_thursday     -0.0097      0.016     -0.625      0.532      -0.040       0.021\n",
      "weekday_tuesday      -0.0193      0.016     -1.242      0.215      -0.050       0.011\n",
      "weekday_wednesday    -0.0057      0.015     -0.384      0.701      -0.035       0.024\n",
      "weathersit_mist      -0.0610      0.010     -5.845      0.000      -0.082      -0.041\n",
      "weathersit_snow      -0.2567      0.026     -9.712      0.000      -0.309      -0.205\n",
      "==============================================================================\n",
      "Omnibus:                       85.143   Durbin-Watson:                   2.041\n",
      "Prob(Omnibus):                  0.000   Jarque-Bera (JB):              237.880\n",
      "Skew:                          -0.809   Prob(JB):                     2.21e-52\n",
      "Kurtosis:                       5.929   Cond. No.                     1.43e+16\n",
      "==============================================================================\n",
      "\n",
      "Notes:\n",
      "[1] Standard Errors assume that the covariance matrix of the errors is correctly specified.\n",
      "[2] The smallest eigenvalue is 8.48e-30. This might indicate that there are\n",
      "strong multicollinearity problems or that the design matrix is singular.\n"
     ]
    }
   ],
   "source": [
    "# Let us first check the model with all features\n",
    "lms = stats_linear_regression(X_train, y_train)\n",
    "print(lms.summary())"
   ]
  },
  {
   "cell_type": "markdown",
   "id": "b4b15c61",
   "metadata": {},
   "source": [
    "*Clearly we have a lot of features that are irrelevant based on their p values though we have a decent r2 value.*    \n",
    "\n",
    "#### Let us try and optimize the model manually first. Here we will optimize by\n",
    "- remove those features that has high p value and high VIF value first \n",
    "- then remove those with high p value\n",
    "- then remove those with high VIF value"
   ]
  },
  {
   "cell_type": "markdown",
   "id": "5d06b778",
   "metadata": {},
   "source": [
    "#### VIF for all features"
   ]
  },
  {
   "cell_type": "code",
   "execution_count": 273,
   "id": "043e0927",
   "metadata": {},
   "outputs": [],
   "source": [
    "from statsmodels.stats.outliers_influence import variance_inflation_factor\n",
    "\n",
    "# Create a function to print the VIF values of the variables for the train data\n",
    "def vif(features):\n",
    "    X_vif = X_train[features]\n",
    "    vif_data = pd.DataFrame()\n",
    "    vif_data['feature'] = X_vif.columns\n",
    "    vif_data['vif'] = [variance_inflation_factor(X_vif.values, i) \n",
    "                   for i in range(len(X_vif.columns))]\n",
    "\n",
    "    print(vif_data)"
   ]
  },
  {
   "cell_type": "code",
   "execution_count": 274,
   "id": "b7de9728",
   "metadata": {},
   "outputs": [
    {
     "name": "stdout",
     "output_type": "stream",
     "text": [
      "              feature        vif\n",
      "0                  yr   1.059159\n",
      "1             holiday   4.509345\n",
      "2          workingday  85.595596\n",
      "3                temp  67.118416\n",
      "4               atemp  56.094759\n",
      "5                 hum   2.054619\n",
      "6           windspeed   1.299464\n",
      "7       season_spring  10.801852\n",
      "8       season_summer   8.312637\n",
      "9       season_winter   9.520373\n",
      "10           mnth_aug   6.544398\n",
      "11           mnth_dec   5.680311\n",
      "12           mnth_feb   4.390822\n",
      "13           mnth_jan   5.902714\n",
      "14           mnth_jul   5.703695\n",
      "15           mnth_jun   2.883910\n",
      "16           mnth_mar   3.473939\n",
      "17           mnth_may   2.243270\n",
      "18           mnth_nov   6.795753\n",
      "19           mnth_oct   6.587437\n",
      "20           mnth_sep   4.960189\n",
      "21     weekday_monday   1.982813\n",
      "22   weekday_saturday  19.720278\n",
      "23     weekday_sunday  18.352174\n",
      "24   weekday_thursday   1.829571\n",
      "25    weekday_tuesday   1.797424\n",
      "26  weekday_wednesday   1.941067\n",
      "27    weathersit_mist   1.601133\n",
      "28    weathersit_snow   1.299277\n"
     ]
    }
   ],
   "source": [
    "# let us check the VIF for all features\n",
    "vif(independent_columns)"
   ]
  },
  {
   "cell_type": "markdown",
   "id": "c1608424",
   "metadata": {},
   "source": [
    "#### Will remove that variable which has high VIF and high p value\n",
    "#### Since atemp has high p value, let us first remove it"
   ]
  },
  {
   "cell_type": "code",
   "execution_count": 275,
   "id": "cb7f0a30",
   "metadata": {},
   "outputs": [],
   "source": [
    "# Let us create a function that will give the VIF after removing mentioned features\n",
    "def remove_and_check_vif(features):\n",
    "    independent_columns_minus = [i for i in independent_columns if i not in features]\n",
    "    vif(independent_columns_minus)"
   ]
  },
  {
   "cell_type": "code",
   "execution_count": 276,
   "id": "d238b304",
   "metadata": {},
   "outputs": [
    {
     "name": "stdout",
     "output_type": "stream",
     "text": [
      "              feature        vif\n",
      "0                  yr   1.058134\n",
      "1             holiday   4.499705\n",
      "2          workingday  85.578244\n",
      "3                temp   7.118264\n",
      "4                 hum   2.052318\n",
      "5           windspeed   1.239789\n",
      "6       season_spring  10.785986\n",
      "7       season_summer   8.289339\n",
      "8       season_winter   9.501176\n",
      "9            mnth_aug   6.426366\n",
      "10           mnth_dec   5.680304\n",
      "11           mnth_feb   4.390483\n",
      "12           mnth_jan   5.900971\n",
      "13           mnth_jul   5.664138\n",
      "14           mnth_jun   2.829939\n",
      "15           mnth_mar   3.471404\n",
      "16           mnth_may   2.222095\n",
      "17           mnth_nov   6.795573\n",
      "18           mnth_oct   6.586439\n",
      "19           mnth_sep   4.940196\n",
      "20     weekday_monday   1.960736\n",
      "21   weekday_saturday  19.717912\n",
      "22     weekday_sunday  18.350060\n",
      "23   weekday_thursday   1.814784\n",
      "24    weekday_tuesday   1.787713\n",
      "25  weekday_wednesday   1.933325\n",
      "26    weathersit_mist   1.600990\n",
      "27    weathersit_snow   1.291561\n"
     ]
    }
   ],
   "source": [
    "features_to_remove = ['atemp']\n",
    "remove_and_check_vif(features_to_remove)"
   ]
  },
  {
   "cell_type": "markdown",
   "id": "dc4faa83",
   "metadata": {},
   "source": [
    "#### season_spring also has higher VIF and higher p value. Let us remove it"
   ]
  },
  {
   "cell_type": "code",
   "execution_count": 277,
   "id": "1917422e",
   "metadata": {},
   "outputs": [
    {
     "name": "stdout",
     "output_type": "stream",
     "text": [
      "              feature        vif\n",
      "0                  yr   1.057488\n",
      "1             holiday   3.908190\n",
      "2          workingday  70.924146\n",
      "3                temp   7.009499\n",
      "4                 hum   2.049273\n",
      "5           windspeed   1.231983\n",
      "6       season_summer   4.730630\n",
      "7       season_winter   6.075476\n",
      "8            mnth_aug   5.113072\n",
      "9            mnth_dec   5.639981\n",
      "10           mnth_feb   3.838552\n",
      "11           mnth_jan   5.226233\n",
      "12           mnth_jul   4.645835\n",
      "13           mnth_jun   2.735839\n",
      "14           mnth_mar   3.117996\n",
      "15           mnth_may   2.217149\n",
      "16           mnth_nov   6.791668\n",
      "17           mnth_oct   6.586415\n",
      "18           mnth_sep   4.231022\n",
      "19     weekday_monday   1.959992\n",
      "20   weekday_saturday  16.165304\n",
      "21     weekday_sunday  15.157193\n",
      "22   weekday_thursday   1.814370\n",
      "23    weekday_tuesday   1.787711\n",
      "24  weekday_wednesday   1.932633\n",
      "25    weathersit_mist   1.599188\n",
      "26    weathersit_snow   1.285883\n"
     ]
    }
   ],
   "source": [
    "features_to_remove = ['atemp', 'season_spring']\n",
    "remove_and_check_vif(features_to_remove)"
   ]
  },
  {
   "cell_type": "markdown",
   "id": "e3614925",
   "metadata": {},
   "source": [
    "#### Let us remove those with high p value"
   ]
  },
  {
   "cell_type": "code",
   "execution_count": 278,
   "id": "d83d97a1",
   "metadata": {},
   "outputs": [
    {
     "name": "stdout",
     "output_type": "stream",
     "text": [
      "            feature       vif\n",
      "0                yr  2.017742\n",
      "1        workingday  4.024440\n",
      "2              temp  4.557708\n",
      "3         windspeed  3.355425\n",
      "4     season_winter  1.281704\n",
      "5          mnth_sep  1.153019\n",
      "6  weekday_saturday  1.687298\n",
      "7   weathersit_mist  1.515945\n",
      "8   weathersit_snow  1.083031\n"
     ]
    }
   ],
   "source": [
    "features_to_remove = ['atemp', \n",
    "                      'holiday',\n",
    "                      'season_spring',\n",
    "                      'weekday_wednesday',\n",
    "                      'weekday_tuesday',\n",
    "                      'weekday_thursday',\n",
    "                      'weekday_monday',\n",
    "                      'mnth_oct',\n",
    "                      'mnth_nov',\n",
    "                      'mnth_may',\n",
    "                      'mnth_mar',\n",
    "                      'mnth_jun',\n",
    "                      'mnth_jul',\n",
    "                      'mnth_jan',\n",
    "                      'mnth_feb',\n",
    "                      'mnth_dec',\n",
    "                      'mnth_aug',\n",
    "                      'season_summer',\n",
    "                      'weekday_sunday',\n",
    "                      'hum'\n",
    "                     ]\n",
    "remove_and_check_vif(features_to_remove)"
   ]
  },
  {
   "cell_type": "markdown",
   "id": "45669dbf",
   "metadata": {},
   "source": [
    "#### We will now try our model with only above 9 features"
   ]
  },
  {
   "cell_type": "code",
   "execution_count": 279,
   "id": "c72c381c",
   "metadata": {},
   "outputs": [
    {
     "name": "stdout",
     "output_type": "stream",
     "text": [
      "                            OLS Regression Results                            \n",
      "==============================================================================\n",
      "Dep. Variable:                    cnt   R-squared:                       0.812\n",
      "Model:                            OLS   Adj. R-squared:                  0.809\n",
      "Method:                 Least Squares   F-statistic:                     240.1\n",
      "Date:                Tue, 12 Sep 2023   Prob (F-statistic):          3.19e-175\n",
      "Time:                        11:04:27   Log-Likelihood:                 464.84\n",
      "No. Observations:                 510   AIC:                            -909.7\n",
      "Df Residuals:                     500   BIC:                            -867.3\n",
      "Df Model:                           9                                         \n",
      "Covariance Type:            nonrobust                                         \n",
      "====================================================================================\n",
      "                       coef    std err          t      P>|t|      [0.025      0.975]\n",
      "------------------------------------------------------------------------------------\n",
      "const                0.0859      0.020      4.332      0.000       0.047       0.125\n",
      "yr                   0.2327      0.009     26.522      0.000       0.215       0.250\n",
      "workingday           0.0582      0.012      4.886      0.000       0.035       0.082\n",
      "temp                 0.5694      0.021     27.203      0.000       0.528       0.611\n",
      "windspeed           -0.1365      0.027     -5.122      0.000      -0.189      -0.084\n",
      "season_winter        0.1060      0.011     10.047      0.000       0.085       0.127\n",
      "mnth_sep             0.0707      0.016      4.292      0.000       0.038       0.103\n",
      "weekday_saturday     0.0678      0.015      4.415      0.000       0.038       0.098\n",
      "weathersit_mist     -0.0760      0.009     -8.150      0.000      -0.094      -0.058\n",
      "weathersit_snow     -0.2881      0.026    -10.913      0.000      -0.340      -0.236\n",
      "==============================================================================\n",
      "Omnibus:                       46.815   Durbin-Watson:                   1.993\n",
      "Prob(Omnibus):                  0.000   Jarque-Bera (JB):               90.488\n",
      "Skew:                          -0.555   Prob(JB):                     2.24e-20\n",
      "Kurtosis:                       4.740   Cond. No.                         11.4\n",
      "==============================================================================\n",
      "\n",
      "Notes:\n",
      "[1] Standard Errors assume that the covariance matrix of the errors is correctly specified.\n"
     ]
    }
   ],
   "source": [
    "X_train_final = X_train[['yr', \n",
    "                         'workingday', \n",
    "                         'temp', \n",
    "                         'windspeed',\n",
    "                         'season_winter',\n",
    "                         'mnth_sep',\n",
    "                         'weekday_saturday',\n",
    "                         'weathersit_mist',\n",
    "                         'weathersit_snow'\n",
    "                        ]]\n",
    "X_train_final_sm = sm.add_constant(X_train_final)\n",
    "lms = sm.OLS(y_train, X_train_final_sm).fit()\n",
    "print(lms.summary())"
   ]
  },
  {
   "cell_type": "markdown",
   "id": "9411caa8",
   "metadata": {},
   "source": [
    "####  Looking at some key statistics from the summary\n",
    "The values we are concerned with are - \n",
    "1. The coefficients and significance (p-values)\n",
    "2. R-squared\n",
    "3. F statistic and its significance"
   ]
  },
  {
   "cell_type": "markdown",
   "id": "7cc03d86",
   "metadata": {},
   "source": [
    "1. _Coeffecients of the 9 features and the constant is as in the summary above._  \n",
    "They all have very high significance as p is 0"
   ]
  },
  {
   "cell_type": "markdown",
   "id": "ac12b316",
   "metadata": {},
   "source": [
    "2. _R-squared is 0.812 which is a decent value._"
   ]
  },
  {
   "cell_type": "markdown",
   "id": "7ebd4a41",
   "metadata": {},
   "source": [
    "3. _F statistics has a very low p value (close to 0), meaning that that the model fit is statistically significant_"
   ]
  },
  {
   "cell_type": "markdown",
   "id": "1a72ed89",
   "metadata": {},
   "source": [
    "---"
   ]
  },
  {
   "cell_type": "markdown",
   "id": "84119072",
   "metadata": {},
   "source": [
    "## Model Evaluation"
   ]
  },
  {
   "cell_type": "markdown",
   "id": "879fdaa4",
   "metadata": {},
   "source": [
    "### Linearity\n",
    "We have assumed linearity based on the pair plots "
   ]
  },
  {
   "cell_type": "markdown",
   "id": "67c1dd99",
   "metadata": {},
   "source": [
    "### No multicolinearity in features"
   ]
  },
  {
   "cell_type": "markdown",
   "id": "85e719be",
   "metadata": {},
   "source": [
    "We have used VIF to check multi-colinearity. VIF < 5 is considered a good value to indicate no colinearity. All our features have less than 5 value"
   ]
  },
  {
   "cell_type": "markdown",
   "id": "a6ae2fca",
   "metadata": {},
   "source": [
    "### No autocorrelation in residuals\n",
    "Durbin-Watson test can be used for this. Value close to 2 suggest there is no autocorrelation.  \n",
    "We have got a value of 1.9"
   ]
  },
  {
   "cell_type": "markdown",
   "id": "c88342fe",
   "metadata": {},
   "source": [
    "### Distribution of the error terms\n",
    "We need to check if the error terms are also normally distributed (which is infact, one of the major assumptions of linear regression), let us plot the histogram of the error terms and see what it looks like."
   ]
  },
  {
   "cell_type": "code",
   "execution_count": 280,
   "id": "d7d4b0b5",
   "metadata": {},
   "outputs": [
    {
     "data": {
      "image/png": "[encoded data removed]",
      "text/plain": [
       "<Figure size 640x480 with 1 Axes>"
      ]
     },
     "metadata": {},
     "output_type": "display_data"
    }
   ],
   "source": [
    "y_train_pred = lms.predict(X_train_final_sm)\n",
    "res = (y_train - y_train_pred)\n",
    "fig = plt.figure()\n",
    "sns.distplot(res, bins = 15)\n",
    "fig.suptitle('Error Terms', fontsize = 15)                  # Plot heading \n",
    "plt.xlabel('y_train - y_train_pred', fontsize = 15)         # X-label\n",
    "plt.show()"
   ]
  },
  {
   "cell_type": "markdown",
   "id": "7d98b929",
   "metadata": {},
   "source": [
    "### Homoscedacity\n",
    "In the graph below we do not see any definite patter which confirms homoscedacity"
   ]
  },
  {
   "cell_type": "code",
   "execution_count": 281,
   "id": "a5242c07",
   "metadata": {},
   "outputs": [
    {
     "data": {
      "text/plain": [
       "<matplotlib.lines.Line2D at 0x2728ee9e890>"
      ]
     },
     "execution_count": 281,
     "metadata": {},
     "output_type": "execute_result"
    },
    {
     "data": {
      "image/png": "[encoded data removed]",
      "text/plain": [
       "<Figure size 640x480 with 1 Axes>"
      ]
     },
     "metadata": {},
     "output_type": "display_data"
    }
   ],
   "source": [
    "plt.scatter(y_train_pred, res)\n",
    "plt.xlim(0,1)\n",
    "plt.xlabel('y_pred/predicted values')\n",
    "plt.ylabel('Residuals')\n",
    "plt.axhline(y = 0, color = 'r', linestyle = '-')"
   ]
  },
  {
   "cell_type": "markdown",
   "id": "7c1d3ca6",
   "metadata": {},
   "source": [
    "## Prediction on the test set\n",
    "Now that you have fitted a regression line on your train dataset, it's time to make some predictions on the test data. For this, you first need to add a constant to the `X_test` data like you did for `X_train` and then you can simply go on and predict the y values corresponding to `X_test` using the `predict` attribute of the fitted regression line."
   ]
  },
  {
   "cell_type": "code",
   "execution_count": 282,
   "id": "e4dc8a36",
   "metadata": {},
   "outputs": [],
   "source": [
    "# We will take only the final selected features out of all the available features\n",
    "X_test_final = X_test[['yr', \n",
    "                       'workingday', \n",
    "                       'temp', \n",
    "                       'windspeed',\n",
    "                       'season_winter',\n",
    "                       'mnth_sep',\n",
    "                       'weekday_saturday',\n",
    "                       'weathersit_mist',\n",
    "                       'weathersit_snow'\n",
    "                        ]]\n",
    "X_test_final_sm = sm.add_constant(X_test_final)\n",
    "y_predicted = lms.predict(X_test_final_sm)"
   ]
  },
  {
   "cell_type": "code",
   "execution_count": 283,
   "id": "4a927826",
   "metadata": {},
   "outputs": [
    {
     "name": "stdout",
     "output_type": "stream",
     "text": [
      "Mean_Squared_Error : 0.010779040907007226\n",
      "r_square_value : 0.7730527950403363\n"
     ]
    }
   ],
   "source": [
    "from sklearn.metrics import mean_squared_error, r2_score\n",
    "mse = mean_squared_error(y_test, y_predicted)\n",
    "r_squared = r2_score(y_test, y_predicted)\n",
    "print('Mean_Squared_Error :' ,mse)\n",
    "print('r_square_value :',r_squared)"
   ]
  },
  {
   "cell_type": "markdown",
   "id": "d4eccd26",
   "metadata": {},
   "source": [
    "---\n",
    "### We have a r squared value of 0.77 for the test data which is inside ~5% range of what we got for our train set. This is a reasonably decent model\n",
    "\n",
    "---"
   ]
  },
  {
   "cell_type": "markdown",
   "id": "7bd350de",
   "metadata": {},
   "source": [
    "### Using automated ways"
   ]
  },
  {
   "cell_type": "code",
   "execution_count": 284,
   "id": "3d91e6b6",
   "metadata": {},
   "outputs": [],
   "source": [
    "from sklearn.feature_selection import RFE\n",
    "from sklearn.svm import SVR"
   ]
  },
  {
   "cell_type": "code",
   "execution_count": 285,
   "id": "1bcf9627",
   "metadata": {},
   "outputs": [],
   "source": [
    "# Let us first create a function that accepts the number of features and return a model\n",
    "def linear_model(n_features_to_select, features_to_remove = []):\n",
    "    required_columns = [i for i in X_train.columns if i not in features_to_remove]\n",
    "    X_train_optimal = X_train[required_columns]\n",
    "    # Use RFE\n",
    "    estimator = SVR(kernel='linear')\n",
    "    selector = RFE(estimator,n_features_to_select=n_features_to_select, step=1)\n",
    "    selector = selector.fit(X_train_optimal, y_train)\n",
    "    X_train_optimal_RFE = X_train[X_train_optimal.columns[selector.support_]]\n",
    "    lms = stats_linear_regression(X_train_optimal_RFE, y_train)\n",
    "    return lms"
   ]
  },
  {
   "cell_type": "markdown",
   "id": "bc8e4e1a",
   "metadata": {},
   "source": [
    "#### Let us try with different values of features to select and compare"
   ]
  },
  {
   "cell_type": "markdown",
   "id": "1dc0ac3b",
   "metadata": {},
   "source": [
    "#### There is no significant drop in r squared value when we drop the features upto 13 from 28"
   ]
  },
  {
   "cell_type": "code",
   "execution_count": 286,
   "id": "82126c28",
   "metadata": {},
   "outputs": [
    {
     "name": "stdout",
     "output_type": "stream",
     "text": [
      "                            OLS Regression Results                            \n",
      "==============================================================================\n",
      "Dep. Variable:                    cnt   R-squared:                       0.843\n",
      "Model:                            OLS   Adj. R-squared:                  0.839\n",
      "Method:                 Least Squares   F-statistic:                     204.8\n",
      "Date:                Tue, 12 Sep 2023   Prob (F-statistic):          9.13e-190\n",
      "Time:                        11:05:36   Log-Likelihood:                 510.54\n",
      "No. Observations:                 510   AIC:                            -993.1\n",
      "Df Residuals:                     496   BIC:                            -933.8\n",
      "Df Model:                          13                                         \n",
      "Covariance Type:            nonrobust                                         \n",
      "===================================================================================\n",
      "                      coef    std err          t      P>|t|      [0.025      0.975]\n",
      "-----------------------------------------------------------------------------------\n",
      "const               0.2389      0.027      8.819      0.000       0.186       0.292\n",
      "yr                  0.2288      0.008     28.263      0.000       0.213       0.245\n",
      "holiday            -0.0943      0.026     -3.691      0.000      -0.145      -0.044\n",
      "temp                0.5171      0.131      3.951      0.000       0.260       0.774\n",
      "atemp               0.0147      0.138      0.106      0.915      -0.257       0.286\n",
      "hum                -0.1806      0.037     -4.816      0.000      -0.254      -0.107\n",
      "windspeed          -0.1863      0.026     -7.142      0.000      -0.237      -0.135\n",
      "season_summer       0.1047      0.011      9.559      0.000       0.083       0.126\n",
      "season_winter       0.1351      0.012     11.120      0.000       0.111       0.159\n",
      "mnth_aug            0.0591      0.017      3.579      0.000       0.027       0.091\n",
      "mnth_oct            0.0386      0.017      2.221      0.027       0.004       0.073\n",
      "mnth_sep            0.1280      0.016      7.822      0.000       0.096       0.160\n",
      "weathersit_mist    -0.0546      0.010     -5.199      0.000      -0.075      -0.034\n",
      "weathersit_snow    -0.2399      0.026     -9.075      0.000      -0.292      -0.188\n",
      "==============================================================================\n",
      "Omnibus:                       64.701   Durbin-Watson:                   2.031\n",
      "Prob(Omnibus):                  0.000   Jarque-Bera (JB):              152.199\n",
      "Skew:                          -0.671   Prob(JB):                     8.92e-34\n",
      "Kurtosis:                       5.315   Cond. No.                         77.7\n",
      "==============================================================================\n",
      "\n",
      "Notes:\n",
      "[1] Standard Errors assume that the covariance matrix of the errors is correctly specified.\n"
     ]
    }
   ],
   "source": [
    "features_to_remove = []\n",
    "lms = linear_model(13, features_to_remove)\n",
    "print(lms.summary())"
   ]
  },
  {
   "cell_type": "markdown",
   "id": "7092c446",
   "metadata": {},
   "source": [
    "#### Based on manual analysis, we know atemp has high p value and  VIF. So drop it"
   ]
  },
  {
   "cell_type": "code",
   "execution_count": 287,
   "id": "8d0bb91a",
   "metadata": {},
   "outputs": [
    {
     "name": "stdout",
     "output_type": "stream",
     "text": [
      "                            OLS Regression Results                            \n",
      "==============================================================================\n",
      "Dep. Variable:                    cnt   R-squared:                       0.845\n",
      "Model:                            OLS   Adj. R-squared:                  0.840\n",
      "Method:                 Least Squares   F-statistic:                     207.2\n",
      "Date:                Tue, 12 Sep 2023   Prob (F-statistic):          7.61e-191\n",
      "Time:                        11:05:40   Log-Likelihood:                 513.11\n",
      "No. Observations:                 510   AIC:                            -998.2\n",
      "Df Residuals:                     496   BIC:                            -938.9\n",
      "Df Model:                          13                                         \n",
      "Covariance Type:            nonrobust                                         \n",
      "===================================================================================\n",
      "                      coef    std err          t      P>|t|      [0.025      0.975]\n",
      "-----------------------------------------------------------------------------------\n",
      "const               0.2586      0.028      9.142      0.000       0.203       0.314\n",
      "yr                  0.2298      0.008     28.486      0.000       0.214       0.246\n",
      "holiday            -0.0936      0.025     -3.682      0.000      -0.144      -0.044\n",
      "temp                0.5049      0.025     20.189      0.000       0.456       0.554\n",
      "hum                -0.1744      0.037     -4.672      0.000      -0.248      -0.101\n",
      "windspeed          -0.1926      0.026     -7.517      0.000      -0.243      -0.142\n",
      "season_summer       0.0982      0.011      8.736      0.000       0.076       0.120\n",
      "season_winter       0.1237      0.013      9.439      0.000       0.098       0.149\n",
      "mnth_aug            0.0571      0.016      3.506      0.000       0.025       0.089\n",
      "mnth_jan           -0.0392      0.017     -2.242      0.025      -0.074      -0.005\n",
      "mnth_oct            0.0416      0.017      2.401      0.017       0.008       0.076\n",
      "mnth_sep            0.1258      0.016      7.710      0.000       0.094       0.158\n",
      "weathersit_mist    -0.0547      0.010     -5.240      0.000      -0.075      -0.034\n",
      "weathersit_snow    -0.2437      0.026     -9.281      0.000      -0.295      -0.192\n",
      "==============================================================================\n",
      "Omnibus:                       67.302   Durbin-Watson:                   2.037\n",
      "Prob(Omnibus):                  0.000   Jarque-Bera (JB):              159.255\n",
      "Skew:                          -0.695   Prob(JB):                     2.62e-35\n",
      "Kurtosis:                       5.359   Cond. No.                         18.5\n",
      "==============================================================================\n",
      "\n",
      "Notes:\n",
      "[1] Standard Errors assume that the covariance matrix of the errors is correctly specified.\n"
     ]
    }
   ],
   "source": [
    "features_to_remove = ['atemp']\n",
    "lms = linear_model(13, features_to_remove)\n",
    "print(lms.summary())"
   ]
  },
  {
   "cell_type": "markdown",
   "id": "5c220f43",
   "metadata": {},
   "source": [
    "#### Let us check the VIF now"
   ]
  },
  {
   "cell_type": "code",
   "execution_count": 288,
   "id": "5a45f470",
   "metadata": {
    "scrolled": false
   },
   "outputs": [
    {
     "name": "stdout",
     "output_type": "stream",
     "text": [
      "            feature       vif\n",
      "0                yr  2.040123\n",
      "1           holiday  1.040053\n",
      "2              temp  5.149768\n",
      "3         windspeed  3.344672\n",
      "4     season_summer  1.895788\n",
      "5     season_winter  2.007210\n",
      "6          mnth_aug  1.605932\n",
      "7          mnth_jan  1.224021\n",
      "8          mnth_oct  1.598457\n",
      "9          mnth_sep  1.344088\n",
      "10  weathersit_mist  1.537661\n",
      "11  weathersit_snow  1.094581\n"
     ]
    }
   ],
   "source": [
    "# After trying with few combinations below set of variables seem to give good result\n",
    "features_to_remove = ['workingday',\n",
    "                      'atemp',\n",
    "                      'hum',\n",
    "                      'season_spring',\n",
    "                      'mnth_dec',\n",
    "                      'mnth_feb',\n",
    "                      'mnth_jul',\n",
    "                      'mnth_jun',\n",
    "                      'mnth_mar',\n",
    "                      'mnth_may',\n",
    "                      'mnth_nov',\n",
    "                      'weekday_monday',\n",
    "                      'weekday_saturday',\n",
    "                      'weekday_sunday',\n",
    "                      'weekday_thursday',\n",
    "                      'weekday_tuesday',\n",
    "                      'weekday_wednesday'\n",
    "                     ]\n",
    "remove_and_check_vif(features_to_remove)"
   ]
  },
  {
   "cell_type": "code",
   "execution_count": 289,
   "id": "1d9a825d",
   "metadata": {},
   "outputs": [
    {
     "name": "stdout",
     "output_type": "stream",
     "text": [
      "                            OLS Regression Results                            \n",
      "==============================================================================\n",
      "Dep. Variable:                    cnt   R-squared:                       0.840\n",
      "Model:                            OLS   Adj. R-squared:                  0.835\n",
      "Method:                 Least Squares   F-statistic:                     199.7\n",
      "Date:                Tue, 12 Sep 2023   Prob (F-statistic):          1.70e-187\n",
      "Time:                        11:05:48   Log-Likelihood:                 505.15\n",
      "No. Observations:                 510   AIC:                            -982.3\n",
      "Df Residuals:                     496   BIC:                            -923.0\n",
      "Df Model:                          13                                         \n",
      "Covariance Type:            nonrobust                                         \n",
      "====================================================================================\n",
      "                       coef    std err          t      P>|t|      [0.025      0.975]\n",
      "------------------------------------------------------------------------------------\n",
      "const                0.2591      0.026      9.829      0.000       0.207       0.311\n",
      "yr                   0.2362      0.008     28.973      0.000       0.220       0.252\n",
      "workingday           0.0558      0.011      5.036      0.000       0.034       0.078\n",
      "temp                 0.3576      0.030     11.859      0.000       0.298       0.417\n",
      "windspeed           -0.1543      0.025     -6.135      0.000      -0.204      -0.105\n",
      "season_spring       -0.1073      0.016     -6.909      0.000      -0.138      -0.077\n",
      "season_winter        0.0699      0.014      4.950      0.000       0.042       0.098\n",
      "mnth_dec            -0.0596      0.017     -3.435      0.001      -0.094      -0.026\n",
      "mnth_jan            -0.0646      0.018     -3.570      0.000      -0.100      -0.029\n",
      "mnth_nov            -0.0578      0.019     -3.108      0.002      -0.094      -0.021\n",
      "mnth_sep             0.0599      0.015      3.894      0.000       0.030       0.090\n",
      "weekday_saturday     0.0669      0.014      4.690      0.000       0.039       0.095\n",
      "weathersit_mist     -0.0808      0.009     -9.293      0.000      -0.098      -0.064\n",
      "weathersit_snow     -0.3027      0.025    -12.306      0.000      -0.351      -0.254\n",
      "==============================================================================\n",
      "Omnibus:                       90.513   Durbin-Watson:                   2.013\n",
      "Prob(Omnibus):                  0.000   Jarque-Bera (JB):              266.734\n",
      "Skew:                          -0.841   Prob(JB):                     1.20e-58\n",
      "Kurtosis:                       6.118   Cond. No.                         16.4\n",
      "==============================================================================\n",
      "\n",
      "Notes:\n",
      "[1] Standard Errors assume that the covariance matrix of the errors is correctly specified.\n"
     ]
    }
   ],
   "source": [
    "features_to_remove = ['atemp', 'hum']\n",
    "lms = linear_model(13, features_to_remove)\n",
    "print(lms.summary())"
   ]
  },
  {
   "cell_type": "markdown",
   "id": "4c279776",
   "metadata": {},
   "source": [
    "---\n",
    "### Based on the above summary:\n",
    "- weathersit_snow, year and temperature has highest impact on the demand\n",
    "- snow impacts demand negatively: People ride less when snowing\n",
    "- year impacts positively: Demand seems to be increasing with year (Time)\n",
    "- temperature impacts positively: Lesser temperature not favorable for demand\n",
    "---"
   ]
  },
  {
   "cell_type": "markdown",
   "id": "b5a9ee5a",
   "metadata": {},
   "source": [
    "### By removing atemp and hum and with 13 features we have a model with r-squared of 0.84 and all features have high significance"
   ]
  },
  {
   "cell_type": "code",
   "execution_count": 290,
   "id": "957e971b",
   "metadata": {},
   "outputs": [],
   "source": [
    "# We will take only the final selected features out of all the available features\n",
    "X_test_final = X_test[['yr', \n",
    "                       'workingday', \n",
    "                       'temp', \n",
    "                       'windspeed',\n",
    "                       'season_spring',\n",
    "                       'season_winter',\n",
    "                       'mnth_dec',\n",
    "                       'mnth_jan',\n",
    "                       'mnth_nov',\n",
    "                       'mnth_sep',\n",
    "                       'weekday_saturday',\n",
    "                       'weathersit_mist',\n",
    "                       'weathersit_snow'\n",
    "                        ]]\n",
    "X_test_final_sm = sm.add_constant(X_test_final)\n",
    "y_predicted = lms.predict(X_test_final_sm)"
   ]
  },
  {
   "cell_type": "code",
   "execution_count": 291,
   "id": "1ffed461",
   "metadata": {},
   "outputs": [
    {
     "name": "stdout",
     "output_type": "stream",
     "text": [
      "Mean_Squared_Error : 0.008694505227752626\n",
      "r_square_value : 0.8169416298751672\n"
     ]
    }
   ],
   "source": [
    "from sklearn.metrics import mean_squared_error, r2_score\n",
    "mse = mean_squared_error(y_test, y_predicted)\n",
    "r_squared = r2_score(y_test, y_predicted)\n",
    "print('Mean_Squared_Error :' ,mse)\n",
    "print('r_square_value :',r_squared)"
   ]
  },
  {
   "cell_type": "markdown",
   "id": "fbec82b3",
   "metadata": {},
   "source": [
    "---\n",
    "### We have a r squared value of 0.82 for the test data which is inside ~5% range of what we got for our train set. This is a reasonably decent model\n",
    "\n",
    "---"
   ]
  },
  {
   "cell_type": "markdown",
   "id": "31a5acd8",
   "metadata": {},
   "source": [
    "## Let us try with sklearn LinearRegression"
   ]
  },
  {
   "cell_type": "code",
   "execution_count": 292,
   "id": "1636571e",
   "metadata": {},
   "outputs": [
    {
     "data": {
      "text/html": [
       "<style>#sk-container-id-3 {color: black;background-color: white;}#sk-container-id-3 pre{padding: 0;}#sk-container-id-3 div.sk-toggleable {background-color: white;}#sk-container-id-3 label.sk-toggleable__label {cursor: pointer;display: block;width: 100%;margin-bottom: 0;padding: 0.3em;box-sizing: border-box;text-align: center;}#sk-container-id-3 label.sk-toggleable__label-arrow:before {content: \"▸\";float: left;margin-right: 0.25em;color: #696969;}#sk-container-id-3 label.sk-toggleable__label-arrow:hover:before {color: black;}#sk-container-id-3 div.sk-estimator:hover label.sk-toggleable__label-arrow:before {color: black;}#sk-container-id-3 div.sk-toggleable__content {max-height: 0;max-width: 0;overflow: hidden;text-align: left;background-color: #f0f8ff;}#sk-container-id-3 div.sk-toggleable__content pre {margin: 0.2em;color: black;border-radius: 0.25em;background-color: #f0f8ff;}#sk-container-id-3 input.sk-toggleable__control:checked~div.sk-toggleable__content {max-height: 200px;max-width: 100%;overflow: auto;}#sk-container-id-3 input.sk-toggleable__control:checked~label.sk-toggleable__label-arrow:before {content: \"▾\";}#sk-container-id-3 div.sk-estimator input.sk-toggleable__control:checked~label.sk-toggleable__label {background-color: #d4ebff;}#sk-container-id-3 div.sk-label input.sk-toggleable__control:checked~label.sk-toggleable__label {background-color: #d4ebff;}#sk-container-id-3 input.sk-hidden--visually {border: 0;clip: rect(1px 1px 1px 1px);clip: rect(1px, 1px, 1px, 1px);height: 1px;margin: -1px;overflow: hidden;padding: 0;position: absolute;width: 1px;}#sk-container-id-3 div.sk-estimator {font-family: monospace;background-color: #f0f8ff;border: 1px dotted black;border-radius: 0.25em;box-sizing: border-box;margin-bottom: 0.5em;}#sk-container-id-3 div.sk-estimator:hover {background-color: #d4ebff;}#sk-container-id-3 div.sk-parallel-item::after {content: \"\";width: 100%;border-bottom: 1px solid gray;flex-grow: 1;}#sk-container-id-3 div.sk-label:hover label.sk-toggleable__label {background-color: #d4ebff;}#sk-container-id-3 div.sk-serial::before {content: \"\";position: absolute;border-left: 1px solid gray;box-sizing: border-box;top: 0;bottom: 0;left: 50%;z-index: 0;}#sk-container-id-3 div.sk-serial {display: flex;flex-direction: column;align-items: center;background-color: white;padding-right: 0.2em;padding-left: 0.2em;position: relative;}#sk-container-id-3 div.sk-item {position: relative;z-index: 1;}#sk-container-id-3 div.sk-parallel {display: flex;align-items: stretch;justify-content: center;background-color: white;position: relative;}#sk-container-id-3 div.sk-item::before, #sk-container-id-3 div.sk-parallel-item::before {content: \"\";position: absolute;border-left: 1px solid gray;box-sizing: border-box;top: 0;bottom: 0;left: 50%;z-index: -1;}#sk-container-id-3 div.sk-parallel-item {display: flex;flex-direction: column;z-index: 1;position: relative;background-color: white;}#sk-container-id-3 div.sk-parallel-item:first-child::after {align-self: flex-end;width: 50%;}#sk-container-id-3 div.sk-parallel-item:last-child::after {align-self: flex-start;width: 50%;}#sk-container-id-3 div.sk-parallel-item:only-child::after {width: 0;}#sk-container-id-3 div.sk-dashed-wrapped {border: 1px dashed gray;margin: 0 0.4em 0.5em 0.4em;box-sizing: border-box;padding-bottom: 0.4em;background-color: white;}#sk-container-id-3 div.sk-label label {font-family: monospace;font-weight: bold;display: inline-block;line-height: 1.2em;}#sk-container-id-3 div.sk-label-container {text-align: center;}#sk-container-id-3 div.sk-container {/* jupyter's `normalize.less` sets `[hidden] { display: none; }` but bootstrap.min.css set `[hidden] { display: none !important; }` so we also need the `!important` here to be able to override the default hidden behavior on the sphinx rendered scikit-learn.org. See: https://github.com/scikit-learn/scikit-learn/issues/21755 */display: inline-block !important;position: relative;}#sk-container-id-3 div.sk-text-repr-fallback {display: none;}</style><div id=\"sk-container-id-3\" class=\"sk-top-container\"><div class=\"sk-text-repr-fallback\"><pre>LinearRegression()</pre><b>In a Jupyter environment, please rerun this cell to show the HTML representation or trust the notebook. <br />On GitHub, the HTML representation is unable to render, please try loading this page with nbviewer.org.</b></div><div class=\"sk-container\" hidden><div class=\"sk-item\"><div class=\"sk-estimator sk-toggleable\"><input class=\"sk-toggleable__control sk-hidden--visually\" id=\"sk-estimator-id-3\" type=\"checkbox\" checked><label for=\"sk-estimator-id-3\" class=\"sk-toggleable__label sk-toggleable__label-arrow\">LinearRegression</label><div class=\"sk-toggleable__content\"><pre>LinearRegression()</pre></div></div></div></div></div>"
      ],
      "text/plain": [
       "LinearRegression()"
      ]
     },
     "execution_count": 292,
     "metadata": {},
     "output_type": "execute_result"
    }
   ],
   "source": [
    "from sklearn.linear_model import LinearRegression\n",
    "import statsmodels.api as sm\n",
    "\n",
    "X_train_final = X_train[['yr', \n",
    "                       'workingday', \n",
    "                       'temp', \n",
    "                       'windspeed',\n",
    "                       'season_spring',\n",
    "                       'season_winter',\n",
    "                       'mnth_dec',\n",
    "                       'mnth_jan',\n",
    "                       'mnth_nov',\n",
    "                       'mnth_sep',\n",
    "                       'weekday_saturday',\n",
    "                       'weathersit_mist',\n",
    "                       'weathersit_snow'\n",
    "                        ]]\n",
    "lm = LinearRegression()\n",
    "lm.fit(X_train_final, y_train)"
   ]
  },
  {
   "cell_type": "code",
   "execution_count": 293,
   "id": "101f6ab4",
   "metadata": {},
   "outputs": [
    {
     "data": {
      "text/plain": [
       "0.8395795230692186"
      ]
     },
     "execution_count": 293,
     "metadata": {},
     "output_type": "execute_result"
    }
   ],
   "source": [
    "lm.score(X_train_final, y_train)"
   ]
  },
  {
   "cell_type": "code",
   "execution_count": 294,
   "id": "2b64b774",
   "metadata": {},
   "outputs": [
    {
     "data": {
      "text/plain": [
       "array([ 0.23624183,  0.05575394,  0.35763122, -0.1542559 , -0.10727478,\n",
       "        0.06987568, -0.05964904, -0.06461234, -0.05780263,  0.05993261,\n",
       "        0.06694144, -0.0807618 , -0.30270556])"
      ]
     },
     "execution_count": 294,
     "metadata": {},
     "output_type": "execute_result"
    }
   ],
   "source": [
    "lm.coef_"
   ]
  },
  {
   "cell_type": "code",
   "execution_count": 295,
   "id": "2899453c",
   "metadata": {},
   "outputs": [
    {
     "data": {
      "text/plain": [
       "0.2590958467079627"
      ]
     },
     "execution_count": 295,
     "metadata": {},
     "output_type": "execute_result"
    }
   ],
   "source": [
    "lm.intercept_"
   ]
  },
  {
   "cell_type": "code",
   "execution_count": 296,
   "id": "9dc50186",
   "metadata": {},
   "outputs": [],
   "source": [
    "X_test_final = X_test[['yr', \n",
    "                       'workingday', \n",
    "                       'temp', \n",
    "                       'windspeed',\n",
    "                       'season_spring',\n",
    "                       'season_winter',\n",
    "                       'mnth_dec',\n",
    "                       'mnth_jan',\n",
    "                       'mnth_nov',\n",
    "                       'mnth_sep',\n",
    "                       'weekday_saturday',\n",
    "                       'weathersit_mist',\n",
    "                       'weathersit_snow'\n",
    "                        ]]\n",
    "y_predicted =  lm.predict(X_test_final)"
   ]
  },
  {
   "cell_type": "code",
   "execution_count": 238,
   "id": "8f431934",
   "metadata": {},
   "outputs": [
    {
     "name": "stdout",
     "output_type": "stream",
     "text": [
      "Mean_Squared_Error : 0.008694505227752619\n",
      "r_square_value : 0.8169416298751673\n"
     ]
    }
   ],
   "source": [
    "from sklearn.metrics import mean_squared_error, r2_score\n",
    "mse = mean_squared_error(y_test, y_predicted)\n",
    "r_squared = r2_score(y_test, y_predicted)\n",
    "print('Mean_Squared_Error :' ,mse)\n",
    "print('r_square_value :',r_squared)"
   ]
  },
  {
   "cell_type": "markdown",
   "id": "98bcaeae",
   "metadata": {},
   "source": [
    "As you can see the results are same with both libraries"
   ]
  }
 ],
 "metadata": {
  "kernelspec": {
   "display_name": "Python 3 (ipykernel)",
   "language": "python",
   "name": "python3"
  },
  "language_info": {
   "codemirror_mode": {
    "name": "ipython",
    "version": 3
   },
   "file_extension": ".py",
   "mimetype": "text/x-python",
   "name": "python",
   "nbconvert_exporter": "python",
   "pygments_lexer": "ipython3",
   "version": "3.10.9"
  }
 },
 "nbformat": 4,
 "nbformat_minor": 5
}
